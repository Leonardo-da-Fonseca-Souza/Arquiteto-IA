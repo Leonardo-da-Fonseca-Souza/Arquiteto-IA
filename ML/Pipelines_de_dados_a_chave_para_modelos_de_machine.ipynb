{
  "nbformat": 4,
  "nbformat_minor": 0,
  "metadata": {
    "colab": {
      "provenance": []
    },
    "kernelspec": {
      "name": "python3",
      "display_name": "Python 3"
    },
    "language_info": {
      "name": "python"
    }
  },
  "cells": [
    {
      "cell_type": "markdown",
      "source": [
        "# Pipelines de dados: a chave para modelos de machine learning mais robustos e escaláveis"
      ],
      "metadata": {
        "id": "SEqw-aXADTqE"
      }
    },
    {
      "cell_type": "markdown",
      "source": [
        "Neste tutorial, vamos dissecar um script Python que demonstra a construção de um pipeline de Machine Learning para prever preços de casas. O objetivo é entender como lidar com diferentes tipos de features (numéricas e categóricas), tratar valores ausentes e integrar todas essas etapas em um fluxo de trabalho coeso e eficiente usando sklearn.pipeline e sklearn.compose.ColumnTransformer."
      ],
      "metadata": {
        "id": "cGo5mtcSEoJg"
      }
    },
    {
      "cell_type": "markdown",
      "source": [
        "**Pré-requisitos**\n",
        "\n",
        "*   Python 3.x\n",
        "*   Bibliotecas: pandas, scikit-learn, learntools.core (específico do Kaggle Learn)"
      ],
      "metadata": {
        "id": "h005DYolEqXR"
      }
    },
    {
      "cell_type": "markdown",
      "source": [
        "## Etapa 1: Configuração Inicial e Carregamento dos Dados\n",
        "Esta etapa configura o ambiente e carrega os conjuntos de dados de treino e teste.\n"
      ],
      "metadata": {
        "id": "SIL6ysYOE8cw"
      }
    },
    {
      "cell_type": "code",
      "execution_count": 15,
      "metadata": {
        "colab": {
          "base_uri": "https://localhost:8080/",
          "height": 447
        },
        "id": "IReEY7JEDH9j",
        "outputId": "967df37d-e177-49d5-d55d-2565cf4fb2a2"
      },
      "outputs": [
        {
          "output_type": "stream",
          "name": "stdout",
          "text": [
            "Training Data Head:\n"
          ]
        },
        {
          "output_type": "display_data",
          "data": {
            "text/plain": [
              "   longitude  latitude  housing_median_age  total_rooms  total_bedrooms  \\\n",
              "0    -114.31     34.19                15.0       5612.0          1283.0   \n",
              "1    -114.47     34.40                19.0       7650.0          1901.0   \n",
              "2    -114.56     33.69                17.0        720.0           174.0   \n",
              "3    -114.57     33.64                14.0       1501.0           337.0   \n",
              "4    -114.57     33.57                20.0       1454.0           326.0   \n",
              "\n",
              "   population  households  median_income  median_house_value  \n",
              "0      1015.0       472.0         1.4936             66900.0  \n",
              "1      1129.0       463.0         1.8200             80100.0  \n",
              "2       333.0       117.0         1.6509             85700.0  \n",
              "3       515.0       226.0         3.1917             73400.0  \n",
              "4       624.0       262.0         1.9250             65500.0  "
            ],
            "text/html": [
              "\n",
              "  <div id=\"df-77515eb7-3cc6-41a3-8fc8-3ab24829ed24\" class=\"colab-df-container\">\n",
              "    <div>\n",
              "<style scoped>\n",
              "    .dataframe tbody tr th:only-of-type {\n",
              "        vertical-align: middle;\n",
              "    }\n",
              "\n",
              "    .dataframe tbody tr th {\n",
              "        vertical-align: top;\n",
              "    }\n",
              "\n",
              "    .dataframe thead th {\n",
              "        text-align: right;\n",
              "    }\n",
              "</style>\n",
              "<table border=\"1\" class=\"dataframe\">\n",
              "  <thead>\n",
              "    <tr style=\"text-align: right;\">\n",
              "      <th></th>\n",
              "      <th>longitude</th>\n",
              "      <th>latitude</th>\n",
              "      <th>housing_median_age</th>\n",
              "      <th>total_rooms</th>\n",
              "      <th>total_bedrooms</th>\n",
              "      <th>population</th>\n",
              "      <th>households</th>\n",
              "      <th>median_income</th>\n",
              "      <th>median_house_value</th>\n",
              "    </tr>\n",
              "  </thead>\n",
              "  <tbody>\n",
              "    <tr>\n",
              "      <th>0</th>\n",
              "      <td>-114.31</td>\n",
              "      <td>34.19</td>\n",
              "      <td>15.0</td>\n",
              "      <td>5612.0</td>\n",
              "      <td>1283.0</td>\n",
              "      <td>1015.0</td>\n",
              "      <td>472.0</td>\n",
              "      <td>1.4936</td>\n",
              "      <td>66900.0</td>\n",
              "    </tr>\n",
              "    <tr>\n",
              "      <th>1</th>\n",
              "      <td>-114.47</td>\n",
              "      <td>34.40</td>\n",
              "      <td>19.0</td>\n",
              "      <td>7650.0</td>\n",
              "      <td>1901.0</td>\n",
              "      <td>1129.0</td>\n",
              "      <td>463.0</td>\n",
              "      <td>1.8200</td>\n",
              "      <td>80100.0</td>\n",
              "    </tr>\n",
              "    <tr>\n",
              "      <th>2</th>\n",
              "      <td>-114.56</td>\n",
              "      <td>33.69</td>\n",
              "      <td>17.0</td>\n",
              "      <td>720.0</td>\n",
              "      <td>174.0</td>\n",
              "      <td>333.0</td>\n",
              "      <td>117.0</td>\n",
              "      <td>1.6509</td>\n",
              "      <td>85700.0</td>\n",
              "    </tr>\n",
              "    <tr>\n",
              "      <th>3</th>\n",
              "      <td>-114.57</td>\n",
              "      <td>33.64</td>\n",
              "      <td>14.0</td>\n",
              "      <td>1501.0</td>\n",
              "      <td>337.0</td>\n",
              "      <td>515.0</td>\n",
              "      <td>226.0</td>\n",
              "      <td>3.1917</td>\n",
              "      <td>73400.0</td>\n",
              "    </tr>\n",
              "    <tr>\n",
              "      <th>4</th>\n",
              "      <td>-114.57</td>\n",
              "      <td>33.57</td>\n",
              "      <td>20.0</td>\n",
              "      <td>1454.0</td>\n",
              "      <td>326.0</td>\n",
              "      <td>624.0</td>\n",
              "      <td>262.0</td>\n",
              "      <td>1.9250</td>\n",
              "      <td>65500.0</td>\n",
              "    </tr>\n",
              "  </tbody>\n",
              "</table>\n",
              "</div>\n",
              "    <div class=\"colab-df-buttons\">\n",
              "\n",
              "  <div class=\"colab-df-container\">\n",
              "    <button class=\"colab-df-convert\" onclick=\"convertToInteractive('df-77515eb7-3cc6-41a3-8fc8-3ab24829ed24')\"\n",
              "            title=\"Convert this dataframe to an interactive table.\"\n",
              "            style=\"display:none;\">\n",
              "\n",
              "  <svg xmlns=\"http://www.w3.org/2000/svg\" height=\"24px\" viewBox=\"0 -960 960 960\">\n",
              "    <path d=\"M120-120v-720h720v720H120Zm60-500h600v-160H180v160Zm220 220h160v-160H400v160Zm0 220h160v-160H400v160ZM180-400h160v-160H180v160Zm440 0h160v-160H620v160ZM180-180h160v-160H180v160Zm440 0h160v-160H620v160Z\"/>\n",
              "  </svg>\n",
              "    </button>\n",
              "\n",
              "  <style>\n",
              "    .colab-df-container {\n",
              "      display:flex;\n",
              "      gap: 12px;\n",
              "    }\n",
              "\n",
              "    .colab-df-convert {\n",
              "      background-color: #E8F0FE;\n",
              "      border: none;\n",
              "      border-radius: 50%;\n",
              "      cursor: pointer;\n",
              "      display: none;\n",
              "      fill: #1967D2;\n",
              "      height: 32px;\n",
              "      padding: 0 0 0 0;\n",
              "      width: 32px;\n",
              "    }\n",
              "\n",
              "    .colab-df-convert:hover {\n",
              "      background-color: #E2EBFA;\n",
              "      box-shadow: 0px 1px 2px rgba(60, 64, 67, 0.3), 0px 1px 3px 1px rgba(60, 64, 67, 0.15);\n",
              "      fill: #174EA6;\n",
              "    }\n",
              "\n",
              "    .colab-df-buttons div {\n",
              "      margin-bottom: 4px;\n",
              "    }\n",
              "\n",
              "    [theme=dark] .colab-df-convert {\n",
              "      background-color: #3B4455;\n",
              "      fill: #D2E3FC;\n",
              "    }\n",
              "\n",
              "    [theme=dark] .colab-df-convert:hover {\n",
              "      background-color: #434B5C;\n",
              "      box-shadow: 0px 1px 3px 1px rgba(0, 0, 0, 0.15);\n",
              "      filter: drop-shadow(0px 1px 2px rgba(0, 0, 0, 0.3));\n",
              "      fill: #FFFFFF;\n",
              "    }\n",
              "  </style>\n",
              "\n",
              "    <script>\n",
              "      const buttonEl =\n",
              "        document.querySelector('#df-77515eb7-3cc6-41a3-8fc8-3ab24829ed24 button.colab-df-convert');\n",
              "      buttonEl.style.display =\n",
              "        google.colab.kernel.accessAllowed ? 'block' : 'none';\n",
              "\n",
              "      async function convertToInteractive(key) {\n",
              "        const element = document.querySelector('#df-77515eb7-3cc6-41a3-8fc8-3ab24829ed24');\n",
              "        const dataTable =\n",
              "          await google.colab.kernel.invokeFunction('convertToInteractive',\n",
              "                                                    [key], {});\n",
              "        if (!dataTable) return;\n",
              "\n",
              "        const docLinkHtml = 'Like what you see? Visit the ' +\n",
              "          '<a target=\"_blank\" href=https://colab.research.google.com/notebooks/data_table.ipynb>data table notebook</a>'\n",
              "          + ' to learn more about interactive tables.';\n",
              "        element.innerHTML = '';\n",
              "        dataTable['output_type'] = 'display_data';\n",
              "        await google.colab.output.renderOutput(dataTable, element);\n",
              "        const docLink = document.createElement('div');\n",
              "        docLink.innerHTML = docLinkHtml;\n",
              "        element.appendChild(docLink);\n",
              "      }\n",
              "    </script>\n",
              "  </div>\n",
              "\n",
              "\n",
              "    <div id=\"df-896980aa-25b7-41d4-8bf4-f9030445a7b8\">\n",
              "      <button class=\"colab-df-quickchart\" onclick=\"quickchart('df-896980aa-25b7-41d4-8bf4-f9030445a7b8')\"\n",
              "                title=\"Suggest charts\"\n",
              "                style=\"display:none;\">\n",
              "\n",
              "<svg xmlns=\"http://www.w3.org/2000/svg\" height=\"24px\"viewBox=\"0 0 24 24\"\n",
              "     width=\"24px\">\n",
              "    <g>\n",
              "        <path d=\"M19 3H5c-1.1 0-2 .9-2 2v14c0 1.1.9 2 2 2h14c1.1 0 2-.9 2-2V5c0-1.1-.9-2-2-2zM9 17H7v-7h2v7zm4 0h-2V7h2v10zm4 0h-2v-4h2v4z\"/>\n",
              "    </g>\n",
              "</svg>\n",
              "      </button>\n",
              "\n",
              "<style>\n",
              "  .colab-df-quickchart {\n",
              "      --bg-color: #E8F0FE;\n",
              "      --fill-color: #1967D2;\n",
              "      --hover-bg-color: #E2EBFA;\n",
              "      --hover-fill-color: #174EA6;\n",
              "      --disabled-fill-color: #AAA;\n",
              "      --disabled-bg-color: #DDD;\n",
              "  }\n",
              "\n",
              "  [theme=dark] .colab-df-quickchart {\n",
              "      --bg-color: #3B4455;\n",
              "      --fill-color: #D2E3FC;\n",
              "      --hover-bg-color: #434B5C;\n",
              "      --hover-fill-color: #FFFFFF;\n",
              "      --disabled-bg-color: #3B4455;\n",
              "      --disabled-fill-color: #666;\n",
              "  }\n",
              "\n",
              "  .colab-df-quickchart {\n",
              "    background-color: var(--bg-color);\n",
              "    border: none;\n",
              "    border-radius: 50%;\n",
              "    cursor: pointer;\n",
              "    display: none;\n",
              "    fill: var(--fill-color);\n",
              "    height: 32px;\n",
              "    padding: 0;\n",
              "    width: 32px;\n",
              "  }\n",
              "\n",
              "  .colab-df-quickchart:hover {\n",
              "    background-color: var(--hover-bg-color);\n",
              "    box-shadow: 0 1px 2px rgba(60, 64, 67, 0.3), 0 1px 3px 1px rgba(60, 64, 67, 0.15);\n",
              "    fill: var(--button-hover-fill-color);\n",
              "  }\n",
              "\n",
              "  .colab-df-quickchart-complete:disabled,\n",
              "  .colab-df-quickchart-complete:disabled:hover {\n",
              "    background-color: var(--disabled-bg-color);\n",
              "    fill: var(--disabled-fill-color);\n",
              "    box-shadow: none;\n",
              "  }\n",
              "\n",
              "  .colab-df-spinner {\n",
              "    border: 2px solid var(--fill-color);\n",
              "    border-color: transparent;\n",
              "    border-bottom-color: var(--fill-color);\n",
              "    animation:\n",
              "      spin 1s steps(1) infinite;\n",
              "  }\n",
              "\n",
              "  @keyframes spin {\n",
              "    0% {\n",
              "      border-color: transparent;\n",
              "      border-bottom-color: var(--fill-color);\n",
              "      border-left-color: var(--fill-color);\n",
              "    }\n",
              "    20% {\n",
              "      border-color: transparent;\n",
              "      border-left-color: var(--fill-color);\n",
              "      border-top-color: var(--fill-color);\n",
              "    }\n",
              "    30% {\n",
              "      border-color: transparent;\n",
              "      border-left-color: var(--fill-color);\n",
              "      border-top-color: var(--fill-color);\n",
              "      border-right-color: var(--fill-color);\n",
              "    }\n",
              "    40% {\n",
              "      border-color: transparent;\n",
              "      border-right-color: var(--fill-color);\n",
              "      border-top-color: var(--fill-color);\n",
              "    }\n",
              "    60% {\n",
              "      border-color: transparent;\n",
              "      border-right-color: var(--fill-color);\n",
              "    }\n",
              "    80% {\n",
              "      border-color: transparent;\n",
              "      border-right-color: var(--fill-color);\n",
              "      border-bottom-color: var(--fill-color);\n",
              "    }\n",
              "    90% {\n",
              "      border-color: transparent;\n",
              "      border-bottom-color: var(--fill-color);\n",
              "    }\n",
              "  }\n",
              "</style>\n",
              "\n",
              "      <script>\n",
              "        async function quickchart(key) {\n",
              "          const quickchartButtonEl =\n",
              "            document.querySelector('#' + key + ' button');\n",
              "          quickchartButtonEl.disabled = true;  // To prevent multiple clicks.\n",
              "          quickchartButtonEl.classList.add('colab-df-spinner');\n",
              "          try {\n",
              "            const charts = await google.colab.kernel.invokeFunction(\n",
              "                'suggestCharts', [key], {});\n",
              "          } catch (error) {\n",
              "            console.error('Error during call to suggestCharts:', error);\n",
              "          }\n",
              "          quickchartButtonEl.classList.remove('colab-df-spinner');\n",
              "          quickchartButtonEl.classList.add('colab-df-quickchart-complete');\n",
              "        }\n",
              "        (() => {\n",
              "          let quickchartButtonEl =\n",
              "            document.querySelector('#df-896980aa-25b7-41d4-8bf4-f9030445a7b8 button');\n",
              "          quickchartButtonEl.style.display =\n",
              "            google.colab.kernel.accessAllowed ? 'block' : 'none';\n",
              "        })();\n",
              "      </script>\n",
              "    </div>\n",
              "\n",
              "    </div>\n",
              "  </div>\n"
            ],
            "application/vnd.google.colaboratory.intrinsic+json": {
              "type": "dataframe",
              "summary": "{\n  \"name\": \"display(test_data\",\n  \"rows\": 5,\n  \"fields\": [\n    {\n      \"column\": \"longitude\",\n      \"properties\": {\n        \"dtype\": \"number\",\n        \"std\": 0.11216059914247682,\n        \"min\": -114.57,\n        \"max\": -114.31,\n        \"num_unique_values\": 4,\n        \"samples\": [\n          -114.47,\n          -114.57,\n          -114.31\n        ],\n        \"semantic_type\": \"\",\n        \"description\": \"\"\n      }\n    },\n    {\n      \"column\": \"latitude\",\n      \"properties\": {\n        \"dtype\": \"number\",\n        \"std\": 0.3723842101915701,\n        \"min\": 33.57,\n        \"max\": 34.4,\n        \"num_unique_values\": 5,\n        \"samples\": [\n          34.4,\n          33.57,\n          33.69\n        ],\n        \"semantic_type\": \"\",\n        \"description\": \"\"\n      }\n    },\n    {\n      \"column\": \"housing_median_age\",\n      \"properties\": {\n        \"dtype\": \"number\",\n        \"std\": 2.5495097567963922,\n        \"min\": 14.0,\n        \"max\": 20.0,\n        \"num_unique_values\": 5,\n        \"samples\": [\n          19.0,\n          20.0,\n          17.0\n        ],\n        \"semantic_type\": \"\",\n        \"description\": \"\"\n      }\n    },\n    {\n      \"column\": \"total_rooms\",\n      \"properties\": {\n        \"dtype\": \"number\",\n        \"std\": 3063.09350167441,\n        \"min\": 720.0,\n        \"max\": 7650.0,\n        \"num_unique_values\": 5,\n        \"samples\": [\n          7650.0,\n          1454.0,\n          720.0\n        ],\n        \"semantic_type\": \"\",\n        \"description\": \"\"\n      }\n    },\n    {\n      \"column\": \"total_bedrooms\",\n      \"properties\": {\n        \"dtype\": \"number\",\n        \"std\": 754.3743765531807,\n        \"min\": 174.0,\n        \"max\": 1901.0,\n        \"num_unique_values\": 5,\n        \"samples\": [\n          1901.0,\n          326.0,\n          174.0\n        ],\n        \"semantic_type\": \"\",\n        \"description\": \"\"\n      }\n    },\n    {\n      \"column\": \"population\",\n      \"properties\": {\n        \"dtype\": \"number\",\n        \"std\": 337.36656621544466,\n        \"min\": 333.0,\n        \"max\": 1129.0,\n        \"num_unique_values\": 5,\n        \"samples\": [\n          1129.0,\n          624.0,\n          333.0\n        ],\n        \"semantic_type\": \"\",\n        \"description\": \"\"\n      }\n    },\n    {\n      \"column\": \"households\",\n      \"properties\": {\n        \"dtype\": \"number\",\n        \"std\": 155.11447385721294,\n        \"min\": 117.0,\n        \"max\": 472.0,\n        \"num_unique_values\": 5,\n        \"samples\": [\n          463.0,\n          262.0,\n          117.0\n        ],\n        \"semantic_type\": \"\",\n        \"description\": \"\"\n      }\n    },\n    {\n      \"column\": \"median_income\",\n      \"properties\": {\n        \"dtype\": \"number\",\n        \"std\": 0.6773416737511431,\n        \"min\": 1.4936,\n        \"max\": 3.1917,\n        \"num_unique_values\": 5,\n        \"samples\": [\n          1.82,\n          1.925,\n          1.6509\n        ],\n        \"semantic_type\": \"\",\n        \"description\": \"\"\n      }\n    },\n    {\n      \"column\": \"median_house_value\",\n      \"properties\": {\n        \"dtype\": \"number\",\n        \"std\": 8611.15555544086,\n        \"min\": 65500.0,\n        \"max\": 85700.0,\n        \"num_unique_values\": 5,\n        \"samples\": [\n          80100.0,\n          65500.0,\n          85700.0\n        ],\n        \"semantic_type\": \"\",\n        \"description\": \"\"\n      }\n    }\n  ]\n}"
            }
          },
          "metadata": {}
        },
        {
          "output_type": "stream",
          "name": "stdout",
          "text": [
            "\n",
            "Test Data Head:\n"
          ]
        },
        {
          "output_type": "display_data",
          "data": {
            "text/plain": [
              "   longitude  latitude  housing_median_age  total_rooms  total_bedrooms  \\\n",
              "0    -122.05     37.37                27.0       3885.0           661.0   \n",
              "1    -118.30     34.26                43.0       1510.0           310.0   \n",
              "2    -117.81     33.78                27.0       3589.0           507.0   \n",
              "3    -118.36     33.82                28.0         67.0            15.0   \n",
              "4    -119.67     36.33                19.0       1241.0           244.0   \n",
              "\n",
              "   population  households  median_income  median_house_value  \n",
              "0      1537.0       606.0         6.6085            344700.0  \n",
              "1       809.0       277.0         3.5990            176500.0  \n",
              "2      1484.0       495.0         5.7934            270500.0  \n",
              "3        49.0        11.0         6.1359            330000.0  \n",
              "4       850.0       237.0         2.9375             81700.0  "
            ],
            "text/html": [
              "\n",
              "  <div id=\"df-3b946ca6-833f-46cc-bfd7-c95be9ebd588\" class=\"colab-df-container\">\n",
              "    <div>\n",
              "<style scoped>\n",
              "    .dataframe tbody tr th:only-of-type {\n",
              "        vertical-align: middle;\n",
              "    }\n",
              "\n",
              "    .dataframe tbody tr th {\n",
              "        vertical-align: top;\n",
              "    }\n",
              "\n",
              "    .dataframe thead th {\n",
              "        text-align: right;\n",
              "    }\n",
              "</style>\n",
              "<table border=\"1\" class=\"dataframe\">\n",
              "  <thead>\n",
              "    <tr style=\"text-align: right;\">\n",
              "      <th></th>\n",
              "      <th>longitude</th>\n",
              "      <th>latitude</th>\n",
              "      <th>housing_median_age</th>\n",
              "      <th>total_rooms</th>\n",
              "      <th>total_bedrooms</th>\n",
              "      <th>population</th>\n",
              "      <th>households</th>\n",
              "      <th>median_income</th>\n",
              "      <th>median_house_value</th>\n",
              "    </tr>\n",
              "  </thead>\n",
              "  <tbody>\n",
              "    <tr>\n",
              "      <th>0</th>\n",
              "      <td>-122.05</td>\n",
              "      <td>37.37</td>\n",
              "      <td>27.0</td>\n",
              "      <td>3885.0</td>\n",
              "      <td>661.0</td>\n",
              "      <td>1537.0</td>\n",
              "      <td>606.0</td>\n",
              "      <td>6.6085</td>\n",
              "      <td>344700.0</td>\n",
              "    </tr>\n",
              "    <tr>\n",
              "      <th>1</th>\n",
              "      <td>-118.30</td>\n",
              "      <td>34.26</td>\n",
              "      <td>43.0</td>\n",
              "      <td>1510.0</td>\n",
              "      <td>310.0</td>\n",
              "      <td>809.0</td>\n",
              "      <td>277.0</td>\n",
              "      <td>3.5990</td>\n",
              "      <td>176500.0</td>\n",
              "    </tr>\n",
              "    <tr>\n",
              "      <th>2</th>\n",
              "      <td>-117.81</td>\n",
              "      <td>33.78</td>\n",
              "      <td>27.0</td>\n",
              "      <td>3589.0</td>\n",
              "      <td>507.0</td>\n",
              "      <td>1484.0</td>\n",
              "      <td>495.0</td>\n",
              "      <td>5.7934</td>\n",
              "      <td>270500.0</td>\n",
              "    </tr>\n",
              "    <tr>\n",
              "      <th>3</th>\n",
              "      <td>-118.36</td>\n",
              "      <td>33.82</td>\n",
              "      <td>28.0</td>\n",
              "      <td>67.0</td>\n",
              "      <td>15.0</td>\n",
              "      <td>49.0</td>\n",
              "      <td>11.0</td>\n",
              "      <td>6.1359</td>\n",
              "      <td>330000.0</td>\n",
              "    </tr>\n",
              "    <tr>\n",
              "      <th>4</th>\n",
              "      <td>-119.67</td>\n",
              "      <td>36.33</td>\n",
              "      <td>19.0</td>\n",
              "      <td>1241.0</td>\n",
              "      <td>244.0</td>\n",
              "      <td>850.0</td>\n",
              "      <td>237.0</td>\n",
              "      <td>2.9375</td>\n",
              "      <td>81700.0</td>\n",
              "    </tr>\n",
              "  </tbody>\n",
              "</table>\n",
              "</div>\n",
              "    <div class=\"colab-df-buttons\">\n",
              "\n",
              "  <div class=\"colab-df-container\">\n",
              "    <button class=\"colab-df-convert\" onclick=\"convertToInteractive('df-3b946ca6-833f-46cc-bfd7-c95be9ebd588')\"\n",
              "            title=\"Convert this dataframe to an interactive table.\"\n",
              "            style=\"display:none;\">\n",
              "\n",
              "  <svg xmlns=\"http://www.w3.org/2000/svg\" height=\"24px\" viewBox=\"0 -960 960 960\">\n",
              "    <path d=\"M120-120v-720h720v720H120Zm60-500h600v-160H180v160Zm220 220h160v-160H400v160Zm0 220h160v-160H400v160ZM180-400h160v-160H180v160Zm440 0h160v-160H620v160ZM180-180h160v-160H180v160Zm440 0h160v-160H620v160Z\"/>\n",
              "  </svg>\n",
              "    </button>\n",
              "\n",
              "  <style>\n",
              "    .colab-df-container {\n",
              "      display:flex;\n",
              "      gap: 12px;\n",
              "    }\n",
              "\n",
              "    .colab-df-convert {\n",
              "      background-color: #E8F0FE;\n",
              "      border: none;\n",
              "      border-radius: 50%;\n",
              "      cursor: pointer;\n",
              "      display: none;\n",
              "      fill: #1967D2;\n",
              "      height: 32px;\n",
              "      padding: 0 0 0 0;\n",
              "      width: 32px;\n",
              "    }\n",
              "\n",
              "    .colab-df-convert:hover {\n",
              "      background-color: #E2EBFA;\n",
              "      box-shadow: 0px 1px 2px rgba(60, 64, 67, 0.3), 0px 1px 3px 1px rgba(60, 64, 67, 0.15);\n",
              "      fill: #174EA6;\n",
              "    }\n",
              "\n",
              "    .colab-df-buttons div {\n",
              "      margin-bottom: 4px;\n",
              "    }\n",
              "\n",
              "    [theme=dark] .colab-df-convert {\n",
              "      background-color: #3B4455;\n",
              "      fill: #D2E3FC;\n",
              "    }\n",
              "\n",
              "    [theme=dark] .colab-df-convert:hover {\n",
              "      background-color: #434B5C;\n",
              "      box-shadow: 0px 1px 3px 1px rgba(0, 0, 0, 0.15);\n",
              "      filter: drop-shadow(0px 1px 2px rgba(0, 0, 0, 0.3));\n",
              "      fill: #FFFFFF;\n",
              "    }\n",
              "  </style>\n",
              "\n",
              "    <script>\n",
              "      const buttonEl =\n",
              "        document.querySelector('#df-3b946ca6-833f-46cc-bfd7-c95be9ebd588 button.colab-df-convert');\n",
              "      buttonEl.style.display =\n",
              "        google.colab.kernel.accessAllowed ? 'block' : 'none';\n",
              "\n",
              "      async function convertToInteractive(key) {\n",
              "        const element = document.querySelector('#df-3b946ca6-833f-46cc-bfd7-c95be9ebd588');\n",
              "        const dataTable =\n",
              "          await google.colab.kernel.invokeFunction('convertToInteractive',\n",
              "                                                    [key], {});\n",
              "        if (!dataTable) return;\n",
              "\n",
              "        const docLinkHtml = 'Like what you see? Visit the ' +\n",
              "          '<a target=\"_blank\" href=https://colab.research.google.com/notebooks/data_table.ipynb>data table notebook</a>'\n",
              "          + ' to learn more about interactive tables.';\n",
              "        element.innerHTML = '';\n",
              "        dataTable['output_type'] = 'display_data';\n",
              "        await google.colab.output.renderOutput(dataTable, element);\n",
              "        const docLink = document.createElement('div');\n",
              "        docLink.innerHTML = docLinkHtml;\n",
              "        element.appendChild(docLink);\n",
              "      }\n",
              "    </script>\n",
              "  </div>\n",
              "\n",
              "\n",
              "    <div id=\"df-9e48096a-c999-4cd3-86a3-a7291c244f4d\">\n",
              "      <button class=\"colab-df-quickchart\" onclick=\"quickchart('df-9e48096a-c999-4cd3-86a3-a7291c244f4d')\"\n",
              "                title=\"Suggest charts\"\n",
              "                style=\"display:none;\">\n",
              "\n",
              "<svg xmlns=\"http://www.w3.org/2000/svg\" height=\"24px\"viewBox=\"0 0 24 24\"\n",
              "     width=\"24px\">\n",
              "    <g>\n",
              "        <path d=\"M19 3H5c-1.1 0-2 .9-2 2v14c0 1.1.9 2 2 2h14c1.1 0 2-.9 2-2V5c0-1.1-.9-2-2-2zM9 17H7v-7h2v7zm4 0h-2V7h2v10zm4 0h-2v-4h2v4z\"/>\n",
              "    </g>\n",
              "</svg>\n",
              "      </button>\n",
              "\n",
              "<style>\n",
              "  .colab-df-quickchart {\n",
              "      --bg-color: #E8F0FE;\n",
              "      --fill-color: #1967D2;\n",
              "      --hover-bg-color: #E2EBFA;\n",
              "      --hover-fill-color: #174EA6;\n",
              "      --disabled-fill-color: #AAA;\n",
              "      --disabled-bg-color: #DDD;\n",
              "  }\n",
              "\n",
              "  [theme=dark] .colab-df-quickchart {\n",
              "      --bg-color: #3B4455;\n",
              "      --fill-color: #D2E3FC;\n",
              "      --hover-bg-color: #434B5C;\n",
              "      --hover-fill-color: #FFFFFF;\n",
              "      --disabled-bg-color: #3B4455;\n",
              "      --disabled-fill-color: #666;\n",
              "  }\n",
              "\n",
              "  .colab-df-quickchart {\n",
              "    background-color: var(--bg-color);\n",
              "    border: none;\n",
              "    border-radius: 50%;\n",
              "    cursor: pointer;\n",
              "    display: none;\n",
              "    fill: var(--fill-color);\n",
              "    height: 32px;\n",
              "    padding: 0;\n",
              "    width: 32px;\n",
              "  }\n",
              "\n",
              "  .colab-df-quickchart:hover {\n",
              "    background-color: var(--hover-bg-color);\n",
              "    box-shadow: 0 1px 2px rgba(60, 64, 67, 0.3), 0 1px 3px 1px rgba(60, 64, 67, 0.15);\n",
              "    fill: var(--button-hover-fill-color);\n",
              "  }\n",
              "\n",
              "  .colab-df-quickchart-complete:disabled,\n",
              "  .colab-df-quickchart-complete:disabled:hover {\n",
              "    background-color: var(--disabled-bg-color);\n",
              "    fill: var(--disabled-fill-color);\n",
              "    box-shadow: none;\n",
              "  }\n",
              "\n",
              "  .colab-df-spinner {\n",
              "    border: 2px solid var(--fill-color);\n",
              "    border-color: transparent;\n",
              "    border-bottom-color: var(--fill-color);\n",
              "    animation:\n",
              "      spin 1s steps(1) infinite;\n",
              "  }\n",
              "\n",
              "  @keyframes spin {\n",
              "    0% {\n",
              "      border-color: transparent;\n",
              "      border-bottom-color: var(--fill-color);\n",
              "      border-left-color: var(--fill-color);\n",
              "    }\n",
              "    20% {\n",
              "      border-color: transparent;\n",
              "      border-left-color: var(--fill-color);\n",
              "      border-top-color: var(--fill-color);\n",
              "    }\n",
              "    30% {\n",
              "      border-color: transparent;\n",
              "      border-left-color: var(--fill-color);\n",
              "      border-top-color: var(--fill-color);\n",
              "      border-right-color: var(--fill-color);\n",
              "    }\n",
              "    40% {\n",
              "      border-color: transparent;\n",
              "      border-right-color: var(--fill-color);\n",
              "      border-top-color: var(--fill-color);\n",
              "    }\n",
              "    60% {\n",
              "      border-color: transparent;\n",
              "      border-right-color: var(--fill-color);\n",
              "    }\n",
              "    80% {\n",
              "      border-color: transparent;\n",
              "      border-right-color: var(--fill-color);\n",
              "      border-bottom-color: var(--fill-color);\n",
              "    }\n",
              "    90% {\n",
              "      border-color: transparent;\n",
              "      border-bottom-color: var(--fill-color);\n",
              "    }\n",
              "  }\n",
              "</style>\n",
              "\n",
              "      <script>\n",
              "        async function quickchart(key) {\n",
              "          const quickchartButtonEl =\n",
              "            document.querySelector('#' + key + ' button');\n",
              "          quickchartButtonEl.disabled = true;  // To prevent multiple clicks.\n",
              "          quickchartButtonEl.classList.add('colab-df-spinner');\n",
              "          try {\n",
              "            const charts = await google.colab.kernel.invokeFunction(\n",
              "                'suggestCharts', [key], {});\n",
              "          } catch (error) {\n",
              "            console.error('Error during call to suggestCharts:', error);\n",
              "          }\n",
              "          quickchartButtonEl.classList.remove('colab-df-spinner');\n",
              "          quickchartButtonEl.classList.add('colab-df-quickchart-complete');\n",
              "        }\n",
              "        (() => {\n",
              "          let quickchartButtonEl =\n",
              "            document.querySelector('#df-9e48096a-c999-4cd3-86a3-a7291c244f4d button');\n",
              "          quickchartButtonEl.style.display =\n",
              "            google.colab.kernel.accessAllowed ? 'block' : 'none';\n",
              "        })();\n",
              "      </script>\n",
              "    </div>\n",
              "\n",
              "    </div>\n",
              "  </div>\n"
            ],
            "application/vnd.google.colaboratory.intrinsic+json": {
              "type": "dataframe",
              "summary": "{\n  \"name\": \"display(test_data\",\n  \"rows\": 5,\n  \"fields\": [\n    {\n      \"column\": \"longitude\",\n      \"properties\": {\n        \"dtype\": \"number\",\n        \"std\": 1.716382824430493,\n        \"min\": -122.05,\n        \"max\": -117.81,\n        \"num_unique_values\": 5,\n        \"samples\": [\n          -118.3,\n          -119.67,\n          -117.81\n        ],\n        \"semantic_type\": \"\",\n        \"description\": \"\"\n      }\n    },\n    {\n      \"column\": \"latitude\",\n      \"properties\": {\n        \"dtype\": \"number\",\n        \"std\": 1.6394724761337092,\n        \"min\": 33.78,\n        \"max\": 37.37,\n        \"num_unique_values\": 5,\n        \"samples\": [\n          34.26,\n          36.33,\n          33.78\n        ],\n        \"semantic_type\": \"\",\n        \"description\": \"\"\n      }\n    },\n    {\n      \"column\": \"housing_median_age\",\n      \"properties\": {\n        \"dtype\": \"number\",\n        \"std\": 8.72926113711808,\n        \"min\": 19.0,\n        \"max\": 43.0,\n        \"num_unique_values\": 4,\n        \"samples\": [\n          43.0,\n          19.0,\n          27.0\n        ],\n        \"semantic_type\": \"\",\n        \"description\": \"\"\n      }\n    },\n    {\n      \"column\": \"total_rooms\",\n      \"properties\": {\n        \"dtype\": \"number\",\n        \"std\": 1628.9385500994197,\n        \"min\": 67.0,\n        \"max\": 3885.0,\n        \"num_unique_values\": 5,\n        \"samples\": [\n          1510.0,\n          1241.0,\n          3589.0\n        ],\n        \"semantic_type\": \"\",\n        \"description\": \"\"\n      }\n    },\n    {\n      \"column\": \"total_bedrooms\",\n      \"properties\": {\n        \"dtype\": \"number\",\n        \"std\": 248.19206272562386,\n        \"min\": 15.0,\n        \"max\": 661.0,\n        \"num_unique_values\": 5,\n        \"samples\": [\n          310.0,\n          244.0,\n          507.0\n        ],\n        \"semantic_type\": \"\",\n        \"description\": \"\"\n      }\n    },\n    {\n      \"column\": \"population\",\n      \"properties\": {\n        \"dtype\": \"number\",\n        \"std\": 606.4896536627809,\n        \"min\": 49.0,\n        \"max\": 1537.0,\n        \"num_unique_values\": 5,\n        \"samples\": [\n          809.0,\n          850.0,\n          1484.0\n        ],\n        \"semantic_type\": \"\",\n        \"description\": \"\"\n      }\n    },\n    {\n      \"column\": \"households\",\n      \"properties\": {\n        \"dtype\": \"number\",\n        \"std\": 232.6503814740049,\n        \"min\": 11.0,\n        \"max\": 606.0,\n        \"num_unique_values\": 5,\n        \"samples\": [\n          277.0,\n          237.0,\n          495.0\n        ],\n        \"semantic_type\": \"\",\n        \"description\": \"\"\n      }\n    },\n    {\n      \"column\": \"median_income\",\n      \"properties\": {\n        \"dtype\": \"number\",\n        \"std\": 1.637271187983225,\n        \"min\": 2.9375,\n        \"max\": 6.6085,\n        \"num_unique_values\": 5,\n        \"samples\": [\n          3.599,\n          2.9375,\n          5.7934\n        ],\n        \"semantic_type\": \"\",\n        \"description\": \"\"\n      }\n    },\n    {\n      \"column\": \"median_house_value\",\n      \"properties\": {\n        \"dtype\": \"number\",\n        \"std\": 110771.35008656344,\n        \"min\": 81700.0,\n        \"max\": 344700.0,\n        \"num_unique_values\": 5,\n        \"samples\": [\n          176500.0,\n          81700.0,\n          270500.0\n        ],\n        \"semantic_type\": \"\",\n        \"description\": \"\"\n      }\n    }\n  ]\n}"
            }
          },
          "metadata": {}
        }
      ],
      "source": [
        "# Import helpful libraries\n",
        "import pandas as pd\n",
        "from sklearn.ensemble import RandomForestRegressor\n",
        "from sklearn.metrics import mean_absolute_error\n",
        "from sklearn.model_selection import train_test_split\n",
        "\n",
        "import pandas as pd\n",
        "\n",
        "# Load the training data\n",
        "train_data_path = '/content/sample_data/california_housing_train.csv'\n",
        "X_full = pd.read_csv(train_data_path)\n",
        "\n",
        "# Load the test data\n",
        "test_data_path = '/content/sample_data/california_housing_test.csv'\n",
        "X_test_full = pd.read_csv(test_data_path)\n",
        "\n",
        "# Display the first few rows of the training data\n",
        "print(\"Training Data Head:\")\n",
        "display(train_data.head())\n",
        "\n",
        "# Display the first few rows of the test data\n",
        "print(\"\\nTest Data Head:\")\n",
        "display(test_data.head())"
      ]
    },
    {
      "cell_type": "markdown",
      "source": [
        "## Etapa 2: Preparação e Divisão dos Dados\n",
        "Nesta etapa, separamos a variável alvo (median_house_value), removemos linhas com valores ausentes no alvo e dividimos os dados em conjuntos de treino e validação."
      ],
      "metadata": {
        "id": "QgFGwCU5ID-o"
      }
    },
    {
      "cell_type": "code",
      "source": [
        "# --- Etapa 2: Preparação e Divisão dos Dados ---\n",
        "\n",
        "# Remove linhas onde a coluna 'median_house_value' (nosso alvo) tem valores ausentes.\n",
        "# 'axis=0' significa remover linhas, 'inplace=True' modifica o DataFrame diretamente.\n",
        "X_full.dropna(axis=0, subset=['median_house_value'], inplace=True)\n",
        "\n",
        "# Separa a variável alvo (y) dos preditores (X).\n",
        "# 'y' contém apenas os preços de venda.\n",
        "y = X_full.median_house_value\n",
        "\n",
        "# Remove a coluna 'median_house_value' do DataFrame de features 'X_full'.\n",
        "# 'axis=1' significa remover colunas, 'inplace=True' modifica o DataFrame.\n",
        "X_full.drop(['median_house_value'], axis=1, inplace=True)\n",
        "\n",
        "print(f\"\\nDimensão de X_full após remover 'median_house_value' e NaN's: {X_full.shape}\")"
      ],
      "metadata": {
        "colab": {
          "base_uri": "https://localhost:8080/"
        },
        "id": "kmSN7CY2DLd9",
        "outputId": "d1b34fc7-afb9-415c-9cd6-5885ee4e4a55"
      },
      "execution_count": 17,
      "outputs": [
        {
          "output_type": "stream",
          "name": "stdout",
          "text": [
            "\n",
            "Dimensão de X_full após remover 'median_house_value' e NaN's: (17000, 8)\n"
          ]
        }
      ]
    },
    {
      "cell_type": "code",
      "source": [
        "# Divide os dados completos em conjuntos de treino e validação.\n",
        "# X_full -> features, y -> alvo\n",
        "# train_size=0.8: 80% dos dados para treino\n",
        "# test_size=0.2: 20% dos dados para validação\n",
        "# random_state=0: Garante que a divisão seja a mesma cada vez que o código é executado.\n",
        "X_train_full, X_valid_full, y_train, y_valid = train_test_split(X_full, y,\n",
        "                                                                train_size=0.8, test_size=0.2,\n",
        "                                                                random_state=0)\n",
        "\n",
        "print(f\"Dimensão de X_train_full: {X_train_full.shape}\")\n",
        "print(f\"Dimensão de X_valid_full: {X_valid_full.shape}\")"
      ],
      "metadata": {
        "colab": {
          "base_uri": "https://localhost:8080/"
        },
        "id": "c1WMVK6CDLaj",
        "outputId": "04a1fecc-340e-479d-d2b0-687fd0036641"
      },
      "execution_count": 18,
      "outputs": [
        {
          "output_type": "stream",
          "name": "stdout",
          "text": [
            "Dimensão de X_train_full: (13600, 8)\n",
            "Dimensão de X_valid_full: (3400, 8)\n"
          ]
        }
      ]
    },
    {
      "cell_type": "markdown",
      "source": [
        "**Explicação**:\n",
        "\n",
        "*   **X_full.dropna(axis=0, subset=['median_house_value'], inplace=True)**: Garante que não haja valores NaN na variável alvo, o que inviabilizaria o treinamento do modelo para essas instâncias.\n",
        "\n",
        "*   **y = X_full.median_house_value**: Cria uma Series pandas para a variável alvo.\n",
        "\n",
        "*  **X_full.drop(['median_house_value'], axis=1, inplace=True)**: Remove a variável alvo do conjunto de features.\n",
        "\n",
        "*   **train_test_split**: Divide os dados em conjuntos de treino e validação. O conjunto de treino é usado para ensinar o modelo, e o conjunto de validação é usado para avaliar seu desempenho em dados que ele não \"viu\" durante o treinamento. random_state garante a reprodutibilidade."
      ],
      "metadata": {
        "id": "T02sFxMxKczb"
      }
    },
    {
      "cell_type": "markdown",
      "source": [
        "## Etapa 3: Identificação de Tipos de Features\n",
        "Esta etapa categoriza as colunas em numéricas e categóricas para aplicar o pré-processamento adequado a cada tipo.\n"
      ],
      "metadata": {
        "id": "rQrfSCONLGkh"
      }
    },
    {
      "cell_type": "code",
      "source": [
        "# --- Etapa 3: Identificação de Tipos de Features ---\n",
        "\n",
        "# \"Cardinalidade\" significa o número de valores únicos em uma coluna.\n",
        "# Seleciona colunas categóricas com cardinalidade relativamente baixa (menos de 10 valores únicos)\n",
        "# e que tenham o tipo de dado 'object' (geralmente strings).\n",
        "categorical_cols = [cname for cname in X_train_full.columns if\n",
        "                    X_train_full[cname].nunique() < 10 and\n",
        "                    X_train_full[cname].dtype == \"object\"]\n",
        "print(f\"\\nColunas Categóricas ({len(categorical_cols)}):\")\n",
        "print(categorical_cols)\n",
        "\n",
        "# Seleciona colunas numéricas (tipo de dado 'int64' ou 'float64').\n",
        "numerical_cols = [cname for cname in X_train_full.columns if\n",
        "                X_train_full[cname].dtype in ['int64', 'float64']]\n",
        "print(f\"\\nColunas Numéricas ({len(numerical_cols)}):\")\n",
        "print(numerical_cols)\n",
        "\n",
        "# Combina as listas de colunas selecionadas.\n",
        "my_cols = categorical_cols + numerical_cols\n",
        "print(f\"\\nTotal de Colunas Selecionadas: {len(my_cols)}\")"
      ],
      "metadata": {
        "colab": {
          "base_uri": "https://localhost:8080/"
        },
        "id": "Ejas9vCdDLXL",
        "outputId": "c0e4bd21-2f42-474d-e44a-821e9f59df74"
      },
      "execution_count": 20,
      "outputs": [
        {
          "output_type": "stream",
          "name": "stdout",
          "text": [
            "\n",
            "Colunas Categóricas (0):\n",
            "[]\n",
            "\n",
            "Colunas Numéricas (8):\n",
            "['longitude', 'latitude', 'housing_median_age', 'total_rooms', 'total_bedrooms', 'population', 'households', 'median_income']\n",
            "\n",
            "Total de Colunas Selecionadas: 8\n"
          ]
        }
      ]
    },
    {
      "cell_type": "code",
      "source": [
        "# Mantém apenas as colunas selecionadas nos DataFrames de treino, validação e teste.\n",
        "X_train = X_train_full[my_cols].copy()\n",
        "X_valid = X_valid_full[my_cols].copy()\n",
        "X_test = X_test_full[my_cols].copy()"
      ],
      "metadata": {
        "id": "tppM705hDLUD"
      },
      "execution_count": 21,
      "outputs": []
    },
    {
      "cell_type": "code",
      "source": [
        "# Exibe as primeiras 5 linhas do DataFrame de treino com as colunas selecionadas\n",
        "print(\"\\n--- X_train.head() com colunas selecionadas ---\")\n",
        "print(X_train.head())\n",
        "print(f\"Dimensão de X_train após seleção de colunas: {X_train.shape}\")"
      ],
      "metadata": {
        "colab": {
          "base_uri": "https://localhost:8080/"
        },
        "id": "SRgnlm5oDLQ0",
        "outputId": "c19a6759-07d9-4fbd-c391-5bf2f60614e0"
      },
      "execution_count": 22,
      "outputs": [
        {
          "output_type": "stream",
          "name": "stdout",
          "text": [
            "\n",
            "--- X_train.head() com colunas selecionadas ---\n",
            "       longitude  latitude  housing_median_age  total_rooms  total_bedrooms  \\\n",
            "12036    -121.41     38.57                16.0       4429.0          1124.0   \n",
            "8210     -118.44     34.19                19.0       3487.0           959.0   \n",
            "15153    -122.26     37.77                52.0       1565.0           315.0   \n",
            "8022     -118.42     34.24                36.0       1181.0           220.0   \n",
            "133      -116.06     34.15                15.0      10377.0          2331.0   \n",
            "\n",
            "       population  households  median_income  \n",
            "12036      1538.0       960.0         3.2443  \n",
            "8210       2278.0       835.0         2.6709  \n",
            "15153       637.0       297.0         4.7778  \n",
            "8022        775.0       218.0         4.7228  \n",
            "133        4507.0      1807.0         2.2466  \n",
            "Dimensão de X_train após seleção de colunas: (13600, 8)\n"
          ]
        }
      ]
    },
    {
      "cell_type": "markdown",
      "source": [
        "**Explicação**:\n",
        "\n",
        "\n",
        "\n",
        "*   **Colunas Categóricas:** São identificadas aquelas que são do tipo object (geralmente strings) e que possuem poucos valores únicos (nunique() < 10). Uma cardinalidade baixa sugere que a codificação One-Hot será eficiente.\n",
        "\n",
        "*   **Colunas Numéricas:** São identificadas pelo tipo int64 ou float64.\n",
        "\n",
        "*   **my_cols:** Lista final das features que serão usadas no modelo.\n",
        "\n",
        "*   **X_train, X_valid, X_test:** Os DataFrames são filtrados para conter apenas as colunas selecionadas. .copy() é usado para evitar avisos de SettingWithCopyWarning em operações futuras."
      ],
      "metadata": {
        "id": "TFBV0szjLnVI"
      }
    },
    {
      "cell_type": "markdown",
      "source": [
        "## Etapa 4: Construção dos Transformadores de Pré-processamento\n",
        "Aqui definimos como tratar valores ausentes e como converter features categóricas em numéricas.\n"
      ],
      "metadata": {
        "id": "zWM8GqcDMAzO"
      }
    },
    {
      "cell_type": "code",
      "source": [
        "# --- Etapa 4: Construção dos Transformadores de Pré-processamento ---\n",
        "\n",
        "# Importa as classes necessárias do Scikit-learn para pré-processamento e pipelines.\n",
        "from sklearn.compose import ColumnTransformer\n",
        "from sklearn.pipeline import Pipeline\n",
        "from sklearn.impute import SimpleImputer\n",
        "from sklearn.preprocessing import OneHotEncoder\n",
        "from sklearn.ensemble import RandomForestRegressor\n",
        "from sklearn.metrics import mean_absolute_error"
      ],
      "metadata": {
        "id": "vCZfKW4TLfDn"
      },
      "execution_count": 23,
      "outputs": []
    },
    {
      "cell_type": "markdown",
      "source": [],
      "metadata": {
        "id": "M93m8hd5MKFu"
      }
    },
    {
      "cell_type": "code",
      "source": [
        "# 1. Pré-processamento para dados numéricos\n",
        "# Usamos SimpleImputer para preencher valores ausentes.\n",
        "# strategy='constant' preencherá com um valor constante (o padrão é 0 ou NaN se fill_value não for especificado).\n",
        "# Neste caso, para features numéricas, 'constant' preencheria com 0 por padrão.\n",
        "numerical_transformer = SimpleImputer(strategy='constant')\n",
        "print(\"\\n--- numerical_transformer ---\")\n",
        "print(numerical_transformer)"
      ],
      "metadata": {
        "colab": {
          "base_uri": "https://localhost:8080/"
        },
        "id": "bjU33sOrLe_Q",
        "outputId": "38360e93-52ca-4505-e611-2c26b85de005"
      },
      "execution_count": 24,
      "outputs": [
        {
          "output_type": "stream",
          "name": "stdout",
          "text": [
            "\n",
            "--- numerical_transformer ---\n",
            "SimpleImputer(strategy='constant')\n"
          ]
        }
      ]
    },
    {
      "cell_type": "code",
      "source": [
        "# 2. Pré-processamento para dados categóricos\n",
        "# Criamos um Pipeline para aplicar múltiplos passos sequencialmente.\n",
        "categorical_transformer = Pipeline(steps=[\n",
        "    # Primeiro passo: Imputação de valores ausentes.\n",
        "    # strategy='most_frequent' preenche valores ausentes com o valor mais comum da coluna.\n",
        "    ('imputer', SimpleImputer(strategy='most_frequent')),\n",
        "    # Segundo passo: Codificação One-Hot.\n",
        "    # Converte variáveis categóricas em um formato numérico que os modelos podem entender.\n",
        "    # handle_unknown='ignore': Se um valor categórico novo for encontrado nos dados de teste\n",
        "    # que não foi visto nos dados de treino, ele será ignorado (as colunas correspondentes terão valor 0).\n",
        "    ('onehot', OneHotEncoder(handle_unknown='ignore'))\n",
        "])\n",
        "print(\"\\n--- categorical_transformer ---\")\n",
        "print(categorical_transformer)"
      ],
      "metadata": {
        "colab": {
          "base_uri": "https://localhost:8080/"
        },
        "id": "juMNA6OxLe7P",
        "outputId": "c5524f88-3b07-4bc8-b456-8139a7efa25c"
      },
      "execution_count": 25,
      "outputs": [
        {
          "output_type": "stream",
          "name": "stdout",
          "text": [
            "\n",
            "--- categorical_transformer ---\n",
            "Pipeline(steps=[('imputer', SimpleImputer(strategy='most_frequent')),\n",
            "                ('onehot', OneHotEncoder(handle_unknown='ignore'))])\n"
          ]
        }
      ]
    },
    {
      "cell_type": "markdown",
      "source": [
        "**Explicação**:\n",
        "\n",
        "*   **SimpleImputer:** Ferramenta para preencher (imputar) valores ausentes.\n",
        "*  *\tPara numéricos: strategy='constant' preenche com um valor fixo (0 é o padrão para constant se não especificado).\n",
        "*  *  Para categóricos: strategy='most_frequent' preenche com a categoria mais comum.\n",
        "\n",
        "*   **OneHotEncoder:** Converte features categóricas em representações numéricas binárias. Por exemplo, se uma coluna 'Cor' tem valores 'Vermelho', 'Azul', 'Verde', One-Hot Encoder criará três novas colunas ('Cor_Vermelho', 'Cor_Azul', 'Cor_Verde') com 0s e 1s. handle_unknown='ignore' é crucial para lidar com categorias que podem aparecer nos dados de teste/validação, mas não foram vistas nos dados de treino.\n",
        "\n",
        "*   Pipeline (para categóricos): É usado aqui para agrupar as etapas de imputação e codificação One-Hot para as features categóricas, garantindo que elas sejam aplicadas na ordem correta.\n"
      ],
      "metadata": {
        "id": "w9W3l_1LMZzF"
      }
    },
    {
      "cell_type": "markdown",
      "source": [
        "## Etapa 5: Agrupamento dos Transformadores com ColumnTransformer\n",
        "Esta é uma parte chave: o ColumnTransformer permite aplicar diferentes transformadores a diferentes subconjuntos de colunas simultaneamente.\n"
      ],
      "metadata": {
        "id": "GAcpbMPONHjM"
      }
    },
    {
      "cell_type": "code",
      "source": [
        "# --- Etapa 5: Agrupamento dos Transformadores com ColumnTransformer ---\n",
        "\n",
        "# Agrupa o pré-processamento para dados numéricos e categóricos.\n",
        "# ColumnTransformer permite aplicar diferentes transformadores a diferentes conjuntos de colunas.\n",
        "preprocessor = ColumnTransformer(\n",
        "    transformers=[\n",
        "        # Aplica 'numerical_transformer' às 'numerical_cols'\n",
        "        ('num', numerical_transformer, numerical_cols),\n",
        "        # Aplica 'categorical_transformer' às 'categorical_cols'\n",
        "        ('cat', categorical_transformer, categorical_cols)\n",
        "    ])\n",
        "print(\"\\n--- preprocessor (ColumnTransformer) ---\")\n",
        "print(preprocessor)\n"
      ],
      "metadata": {
        "colab": {
          "base_uri": "https://localhost:8080/"
        },
        "id": "F6YWrIJFLe34",
        "outputId": "468c38ba-85ed-484b-c874-52dd04139d9b"
      },
      "execution_count": 26,
      "outputs": [
        {
          "output_type": "stream",
          "name": "stdout",
          "text": [
            "\n",
            "--- preprocessor (ColumnTransformer) ---\n",
            "ColumnTransformer(transformers=[('num', SimpleImputer(strategy='constant'),\n",
            "                                 ['longitude', 'latitude', 'housing_median_age',\n",
            "                                  'total_rooms', 'total_bedrooms', 'population',\n",
            "                                  'households', 'median_income']),\n",
            "                                ('cat',\n",
            "                                 Pipeline(steps=[('imputer',\n",
            "                                                  SimpleImputer(strategy='most_frequent')),\n",
            "                                                 ('onehot',\n",
            "                                                  OneHotEncoder(handle_unknown='ignore'))]),\n",
            "                                 [])])\n"
          ]
        }
      ]
    },
    {
      "cell_type": "markdown",
      "source": [
        "**Explicação**:\n",
        "\n",
        "*   ColumnTransformer: Esta classe é essencial para lidar com pipelines complexos onde diferentes tipos de colunas exigem diferentes estratégias de pré-processamento.\n",
        "\n",
        "*   transformers: É uma lista de tuplas, onde cada tupla contém:\n",
        "\n",
        "*  * Um nome ('num', 'cat').\n",
        "*  * Um objeto transformador (numerical_transformer, categorical_transformer).\n",
        "*  * Uma lista de nomes de colunas às quais o transformador deve ser aplicado (numerical_cols, categorical_cols)."
      ],
      "metadata": {
        "id": "CVhnWYA0NREr"
      }
    },
    {
      "cell_type": "markdown",
      "source": [
        "## Etapa 6: Definição do Modelo de Machine Learning\n",
        "Agora definimos o modelo que será usado para fazer as previsões.\n"
      ],
      "metadata": {
        "id": "ok8FBiZbNo_0"
      }
    },
    {
      "cell_type": "code",
      "source": [
        "# --- Etapa 6: Definição do Modelo de Machine Learning ---\n",
        "\n",
        "# Define o modelo de Regressão de Floresta Aleatória.\n",
        "# n_estimators=100: Usa 100 árvores de decisão na floresta.\n",
        "# random_state=0: Garante a reprodutibilidade dos resultados.\n",
        "model = RandomForestRegressor(n_estimators=100, random_state=0)\n",
        "print(\"\\n--- Modelo (RandomForestRegressor) ---\")\n",
        "print(model)"
      ],
      "metadata": {
        "colab": {
          "base_uri": "https://localhost:8080/"
        },
        "id": "nWWAnQ73NLQz",
        "outputId": "259aa2eb-809d-4e9e-dccc-9534182dc601"
      },
      "execution_count": 27,
      "outputs": [
        {
          "output_type": "stream",
          "name": "stdout",
          "text": [
            "\n",
            "--- Modelo (RandomForestRegressor) ---\n",
            "RandomForestRegressor(random_state=0)\n"
          ]
        }
      ]
    },
    {
      "cell_type": "markdown",
      "source": [
        "**Explicação**:\n",
        "\n",
        "*   **RandomForestRegressor**: Um algoritmo de Machine Learning de ensemble que combina várias árvores de decisão para fazer previsões. É robusto e geralmente tem bom desempenho.\n",
        "\n",
        "*   **n_estimators**: Número de árvores na floresta. Mais árvores geralmente levam a um desempenho melhor, mas aumentam o tempo de computação.\n",
        "\n",
        "*   **random_state**: Define a semente para a geração de números aleatórios, garantindo que o modelo produza os mesmos resultados a cada execução.\n"
      ],
      "metadata": {
        "id": "hOO3WckkOY9x"
      }
    },
    {
      "cell_type": "markdown",
      "source": [
        "## Etapa 7: Construção do Pipeline Completo (Pré-processamento + Modelo)\n",
        "Esta é a parte onde tudo se une: o Pipeline principal que agrupa o pré-processador e o modelo.\n"
      ],
      "metadata": {
        "id": "E7Gn_mHrOuBg"
      }
    },
    {
      "cell_type": "code",
      "source": [
        "# --- Etapa 7: Construção do Pipeline Completo ---\n",
        "\n",
        "# Agrupa o pré-processamento e o código de modelagem em um único Pipeline.\n",
        "# Isso garante que as etapas de pré-processamento (imputação, one-hot encoding)\n",
        "# sejam aplicadas consistentemente tanto aos dados de treino quanto aos de validação/teste.\n",
        "clf = Pipeline(steps=[('preprocessor', preprocessor), # Primeiro o pré-processador\n",
        "                      ('model', model)                # Depois o modelo\n",
        "                     ])\n",
        "print(\"\\n--- Pipeline Completo (clf) ---\")\n",
        "print(clf)"
      ],
      "metadata": {
        "colab": {
          "base_uri": "https://localhost:8080/"
        },
        "id": "975iV6h9NLNb",
        "outputId": "07ca001d-14e1-4296-93d5-c46a773be315"
      },
      "execution_count": 28,
      "outputs": [
        {
          "output_type": "stream",
          "name": "stdout",
          "text": [
            "\n",
            "--- Pipeline Completo (clf) ---\n",
            "Pipeline(steps=[('preprocessor',\n",
            "                 ColumnTransformer(transformers=[('num',\n",
            "                                                  SimpleImputer(strategy='constant'),\n",
            "                                                  ['longitude', 'latitude',\n",
            "                                                   'housing_median_age',\n",
            "                                                   'total_rooms',\n",
            "                                                   'total_bedrooms',\n",
            "                                                   'population', 'households',\n",
            "                                                   'median_income']),\n",
            "                                                 ('cat',\n",
            "                                                  Pipeline(steps=[('imputer',\n",
            "                                                                   SimpleImputer(strategy='most_frequent')),\n",
            "                                                                  ('onehot',\n",
            "                                                                   OneHotEncoder(handle_unknown='ignore'))]),\n",
            "                                                  [])])),\n",
            "                ('model', RandomForestRegressor(random_state=0))])\n"
          ]
        }
      ]
    },
    {
      "cell_type": "markdown",
      "source": [
        "**Explicação**:\n",
        "\n",
        "*\t**Pipeline**: O coração da organização do fluxo de trabalho de ML. Ele encadeia várias etapas em uma única unidade.\n",
        "*\t**steps**: Uma lista de tuplas, onde cada tupla contém um nome (string) e um objeto transformador ou modelo. As etapas são executadas sequencialmente. O benefício principal é evitar o vazamento de dados (data leakage) e tornar o código mais limpo e modular.\n"
      ],
      "metadata": {
        "id": "2cj1VNoaO2kP"
      }
    },
    {
      "cell_type": "markdown",
      "source": [
        "# Etapa 8: Treinamento do Modelo\n",
        "Agora treinamos o pipeline completo nos dados de treino.\n"
      ],
      "metadata": {
        "id": "29Bib2goPS6Y"
      }
    },
    {
      "cell_type": "code",
      "source": [
        "# --- Etapa 8: Treinamento do Modelo ---\n",
        "\n",
        "# Pré-processa os dados de treino e ajusta o modelo.\n",
        "# Quando 'fit' é chamado no pipeline, ele:\n",
        "# 1. Chama 'fit_transform' no 'preprocessor' usando X_train.\n",
        "#    Isso aprende os parâmetros de imputação (ex: moda, constante) e os mapeamentos do OneHotEncoder.\n",
        "#    Aplica as transformações para gerar X_train_processed.\n",
        "# 2. Em seguida, chama 'fit' no 'model' usando X_train_processed e y_train.\n",
        "print(\"\\n--- Treinando o Pipeline... ---\")\n",
        "clf.fit(X_train, y_train)\n",
        "print(\"Treinamento Completo!\")\n"
      ],
      "metadata": {
        "colab": {
          "base_uri": "https://localhost:8080/"
        },
        "id": "45FoihJHNLCr",
        "outputId": "c666e5b0-91da-4aa1-a5ae-b0499215f90a"
      },
      "execution_count": 29,
      "outputs": [
        {
          "output_type": "stream",
          "name": "stdout",
          "text": [
            "\n",
            "--- Treinando o Pipeline... ---\n",
            "Treinamento Completo!\n"
          ]
        }
      ]
    },
    {
      "cell_type": "markdown",
      "source": [
        "**Explicação**:\n",
        "\n",
        "* **clf.fit(X_train, y_train)**: Este é o comando mágico. Quando você chama fit no pipeline, ele internamente chama fit_transform em todas as etapas de pré-processamento (apenas fit na última etapa, que é o modelo). Isso garante que o pré-processamento seja aprendido apenas com os dados de treino, evitando vazamento de informações do conjunto de validação ou teste.\n"
      ],
      "metadata": {
        "id": "utFObcTSPiGu"
      }
    },
    {
      "cell_type": "markdown",
      "source": [
        "## Etapa 9: Realização de Previsões e Avaliação\n",
        "Após o treinamento, usamos o pipeline para fazer previsões nos dados de validação e avaliamos seu desempenho.\n"
      ],
      "metadata": {
        "id": "l2KVONyJPrvt"
      }
    },
    {
      "cell_type": "code",
      "source": [
        "# --- Etapa 9: Realização de Previsões e Avaliação ---\n",
        "\n",
        "# Pré-processa os dados de validação e obtém previsões.\n",
        "# Quando 'predict' é chamado no pipeline, ele:\n",
        "# 1. Chama 'transform' no 'preprocessor' usando X_valid.\n",
        "#    Ele aplica as transformações aprendidas no passo 'fit' (NÃO APRENDE NOVAS COISAS).\n",
        "#    Gera X_valid_processed.\n",
        "# 2. Em seguida, chama 'predict' no 'model' usando X_valid_processed.\n",
        "preds = clf.predict(X_valid)\n",
        "\n",
        "# Exibe os últimos 5 valores reais de median_house_value no conjunto completo (apenas para referência)\n",
        "print(\"\\nÚltimos 5 valores reais de 'median_house_value' (y.tail()):\")\n",
        "print(y.tail())\n",
        "\n",
        "# Exibe os últimos 5 valores previstos no conjunto de validação\n",
        "print(\"\\nÚltimos 5 valores previstos (preds[-5:]):\")\n",
        "print(preds[-5:])"
      ],
      "metadata": {
        "colab": {
          "base_uri": "https://localhost:8080/"
        },
        "id": "1dY_4SDvPgIf",
        "outputId": "cf0aa882-f6d1-4c55-9823-9346d4adbb97"
      },
      "execution_count": 30,
      "outputs": [
        {
          "output_type": "stream",
          "name": "stdout",
          "text": [
            "\n",
            "Últimos 5 valores reais de 'median_house_value' (y.tail()):\n",
            "16995    111400.0\n",
            "16996     79000.0\n",
            "16997    103600.0\n",
            "16998     85800.0\n",
            "16999     94600.0\n",
            "Name: median_house_value, dtype: float64\n",
            "\n",
            "Últimos 5 valores previstos (preds[-5:]):\n",
            "[219178.   239364.01 136810.   105306.    68507.  ]\n"
          ]
        }
      ]
    },
    {
      "cell_type": "code",
      "source": [
        "# Calcula o Erro Absoluto Médio (MAE) entre os valores reais e previstos.\n",
        "# O MAE é uma métrica que mede a média das diferenças absolutas entre as previsões e os valores reais.\n",
        "mae = mean_absolute_error(y_valid, preds)\n",
        "print(f'\\nMAE: {mae}')\n"
      ],
      "metadata": {
        "colab": {
          "base_uri": "https://localhost:8080/"
        },
        "id": "9hJuQlmmPgFe",
        "outputId": "3cbdfe24-3538-44fa-f14b-17ef058255cb"
      },
      "execution_count": 31,
      "outputs": [
        {
          "output_type": "stream",
          "name": "stdout",
          "text": [
            "\n",
            "MAE: 31643.480294117646\n"
          ]
        }
      ]
    },
    {
      "cell_type": "markdown",
      "source": [
        "**Explicação**:\n",
        "\n",
        "* **clf.predict(X_valid)**: Faz previsões. Similar ao fit, ele aplica o transform nas etapas de pré-processamento (usando os parâmetros aprendidos no treino) e, em seguida, o predict no modelo.\n",
        "\n",
        "*\t**mean_absolute_error**: Uma métrica comum para problemas de regressão. Ela mede a média das magnitudes dos erros em um conjunto de previsões, sem considerar a direção dos erros. Um MAE menor indica um modelo melhor.\n"
      ],
      "metadata": {
        "id": "g7mPeAjBQWgc"
      }
    },
    {
      "cell_type": "markdown",
      "source": [
        "## Etapa 10: Melhorando o Desempenho (Sua Vez!)\n",
        "O trecho do Kaggle Learning System pede para você tentar melhorar o MAE. Isso pode ser feito ajustando os parâmetros dos transformadores ou do modelo.\n"
      ],
      "metadata": {
        "id": "Nj7sqpKRQghD"
      }
    },
    {
      "cell_type": "code",
      "source": [
        "# --- Etapa 10: Melhorando o Desempenho ---\n",
        "\n",
        "# Você pode experimentar diferentes estratégias de imputação ou parâmetros do modelo.\n",
        "\n",
        "# Exemplo de possíveis melhorias:\n",
        "\n",
        "# 1. Mudar a estratégia de imputação para dados numéricos:\n",
        "# numerical_transformer = SimpleImputer(strategy='mean') # Experimente 'mean' ou 'median'\n",
        "\n",
        "# 2. Ajustar os parâmetros do modelo RandomForestRegressor:\n",
        "# model = RandomForestRegressor(n_estimators=200, random_state=0, max_depth=7) # Mais estimadores, profundidade máxima\n",
        "\n",
        "# Para este tutorial, vamos manter as configurações originais conforme o exemplo inicial,\n",
        "# mas esta é a seção onde você faria suas otimizações.\n",
        "numerical_transformer = SimpleImputer(strategy='constant') # Mantido como no exemplo\n",
        "categorical_transformer = Pipeline(steps=[\n",
        "    ('imputer', SimpleImputer(strategy='most_frequent')),\n",
        "    ('onehot', OneHotEncoder(handle_unknown='ignore'))\n",
        "]) # Mantido como no exemplo\n",
        "\n",
        "model = RandomForestRegressor(n_estimators=100, random_state=0) # Mantido como no exemplo\n",
        "\n",
        "# Reconstruir o preprocessor e o pipeline com as novas configurações (se houver)\n",
        "preprocessor = ColumnTransformer(\n",
        "    transformers=[\n",
        "        ('num', numerical_transformer, numerical_cols),\n",
        "        ('cat', categorical_transformer, categorical_cols)\n",
        "    ])\n",
        "\n",
        "my_pipeline = Pipeline(steps=[('preprocessor', preprocessor),\n",
        "                              ('model', model)\n",
        "                             ])\n",
        "\n",
        "print(\"\\n--- Re-treinando o Pipeline (com possíveis ajustes) ---\")\n",
        "my_pipeline.fit(X_train, y_train)\n",
        "\n",
        "preds = my_pipeline.predict(X_valid)\n",
        "score = mean_absolute_error(y_valid, preds)\n",
        "print(f'MAE após possíveis ajustes (ou sem ajustes se mantidas as originais): {score}')\n"
      ],
      "metadata": {
        "colab": {
          "base_uri": "https://localhost:8080/"
        },
        "id": "66lhp1vgPf8e",
        "outputId": "ff20698a-fc59-4e61-f82a-a18357fb08a9"
      },
      "execution_count": 32,
      "outputs": [
        {
          "output_type": "stream",
          "name": "stdout",
          "text": [
            "\n",
            "--- Re-treinando o Pipeline (com possíveis ajustes) ---\n",
            "MAE após possíveis ajustes (ou sem ajustes se mantidas as originais): 31643.480294117646\n"
          ]
        }
      ]
    },
    {
      "cell_type": "markdown",
      "source": [
        "**Explicação**:\n",
        "\n",
        "*\tEsta etapa é um convite à experimentação. Você pode tentar diferentes strategy para SimpleImputer (e.g., 'mean', 'median').\n",
        "*\tPara o RandomForestRegressor, pode-se ajustar n_estimators (número de árvores), max_depth (profundidade máxima das árvores), min_samples_split (número mínimo de amostras necessárias para dividir um nó interno), entre outros. O objetivo é encontrar uma combinação que minimize o MAE no conjunto de validação.\n"
      ],
      "metadata": {
        "id": "X8bMqBVmQ3d7"
      }
    },
    {
      "cell_type": "markdown",
      "source": [
        "## Etapa 11: Gerando Previsões para Dados de Teste\n",
        "Finalmente, usamos o pipeline treinado para gerar previsões no conjunto de dados de teste, que não tem a variável alvo (median_house_value).\n"
      ],
      "metadata": {
        "id": "MHdFAjIOQ_c7"
      }
    },
    {
      "cell_type": "code",
      "source": [
        "# --- Etapa 11: Gerando Previsões para Dados de Teste ---\n",
        "\n",
        "# O pipeline 'my_pipeline' já está treinado do passo anterior.\n",
        "# Agora, aplicamos ele aos dados de teste (X_test).\n",
        "# Note que X_test_full foi filtrado para 'my_cols' no passo 3, resultando em X_test.\n",
        "print(\"\\n--- Gerando previsões para os dados de teste ---\")\n",
        "preds_test =  my_pipeline.predict(X_test)\n",
        "\n",
        "print(\"\\nÚltimos 5 valores previstos nos dados de teste:\")\n",
        "print(preds_test[-5:])"
      ],
      "metadata": {
        "colab": {
          "base_uri": "https://localhost:8080/"
        },
        "id": "ynEFPrazQ3BF",
        "outputId": "8bf07b23-edcf-4648-ce76-60ff2ed779ac"
      },
      "execution_count": 33,
      "outputs": [
        {
          "output_type": "stream",
          "name": "stdout",
          "text": [
            "\n",
            "--- Gerando previsões para os dados de teste ---\n",
            "\n",
            "Últimos 5 valores previstos nos dados de teste:\n",
            "[278272.   231517.    71402.   238549.14 498014.94]\n"
          ]
        }
      ]
    },
    {
      "cell_type": "markdown",
      "source": [
        "**Explicação**:\n",
        "\n",
        "*\t**my_pipeline.predict(X_test)**: Aplica o pipeline treinado (pré-processamento + modelo) aos dados de teste. É crucial que o pré-processamento para os dados de teste seja exatamente o mesmo (usando os mesmos parâmetros aprendidos) que foi aplicado aos dados de treino e validação.\n",
        "\n",
        "*\t**preds_test**: Contém as previsões dos preços de casas para o conjunto de teste.\n"
      ],
      "metadata": {
        "id": "iaZhecHIRNLa"
      }
    },
    {
      "cell_type": "markdown",
      "source": [
        "## Conclusão\n",
        "\n",
        "**Parabéns**! Você passou por um exemplo completo de construção de um pipeline de Machine Learning para um problema de dados tabulares. Entendeu como:\n",
        "1.\t**Carregar e Preparar Dados**: Separar features e alvo, dividir em treino/validação.\n",
        "2.\t**Identificar Tipos de Features**: Distinguir colunas numéricas de categóricas.\n",
        "3.\t**Construir Transformadores**: Usar SimpleImputer para dados ausentes e OneHotEncoder para categóricos.\n",
        "4.\t**Agrupar Transformadores**: Utilizar ColumnTransformer para aplicar diferentes lógicas a diferentes conjuntos de colunas.\n",
        "5.\t**Definir um Modelo**: Escolher um algoritmo de ML (neste caso, RandomForestRegressor).\n",
        "6.\t**Criar um Pipeline Completo**: Unir pré-processamento e modelo em uma sequência lógica com Pipeline.\n",
        "7.\t**Treinar, Prever e Avaliar**: Usar o pipeline para treinar o modelo, fazer previsões e medir seu desempenho.\n",
        "8.\t**Gerar Previsões de Teste**: Aplicar o pipeline treinado a dados não vistos para prever resultados finais.\n",
        "Este padrão de pipeline é extremamente poderoso e recomendado para qualquer projeto de Machine Learning, pois garante consistência, evita vazamento de dados e torna o código mais legível e mantenível.\n",
        "\n",
        "Agora você pode experimentar diferentes transformadores, estratégias de imputação, codificadores, modelos e seus hiperparâmetros para buscar um desempenho ainda melhor!\n",
        "\n"
      ],
      "metadata": {
        "id": "YPi4sUiVRe5J"
      }
    }
  ]
}