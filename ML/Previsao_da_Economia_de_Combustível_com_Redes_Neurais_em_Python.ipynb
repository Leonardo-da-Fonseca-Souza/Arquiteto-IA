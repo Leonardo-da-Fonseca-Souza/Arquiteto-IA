{
  "nbformat": 4,
  "nbformat_minor": 0,
  "metadata": {
    "colab": {
      "provenance": []
    },
    "kernelspec": {
      "name": "python3",
      "display_name": "Python 3"
    },
    "language_info": {
      "name": "python"
    }
  },
  "cells": [
    {
      "cell_type": "markdown",
      "source": [
        "# **Previsão da Economia de Combustível com Redes Neurais em Python**"
      ],
      "metadata": {
        "id": "e7M92FCWg5X2"
      }
    },
    {
      "cell_type": "markdown",
      "source": [
        "#### Este tutorial irá guiá-lo através de um pipeline de Machine Learning usando Redes Neurais (TensorFlow/Keras) para prever a economia de combustível de veículos, com base em características fornecidas. Iremos cobrir o carregamento de dados, pré-processamento, construção, compilação e treinamento do modelo, e visualização dos resultados."
      ],
      "metadata": {
        "id": "UXRV138vPavS"
      }
    },
    {
      "cell_type": "markdown",
      "source": [
        "**Objetivo**: Prever a economia de combustível (Fuel Economy - FE) de um automóvel, dadas suas características."
      ],
      "metadata": {
        "id": "GC346dsmPg0m"
      }
    },
    {
      "cell_type": "markdown",
      "source": [
        "**Pré-requisitos:**\n",
        "\n",
        "*   Conhecimento básico de Python.\n",
        "*   Noções de estruturas de dados como DataFrames do Pandas.\n",
        "*   Conceitos introdutórios de Machine Learning (recursos, alvo, treinamento, teste)."
      ],
      "metadata": {
        "id": "SZ0IoiCTPswO"
      }
    },
    {
      "cell_type": "markdown",
      "source": [
        "## Passo 1: Carregar Bibliotecas Essenciais e o Conjunto de Dados\n",
        "\n",
        "Nesta primeira etapa, importamos todas as bibliotecas Python que serão necessárias para o nosso projeto e carregamos o conjunto de dados fuel.csv."
      ],
      "metadata": {
        "id": "6jQPRG8mQF31"
      }
    },
    {
      "cell_type": "code",
      "execution_count": 1,
      "metadata": {
        "id": "UaJz7qkcLEnz"
      },
      "outputs": [],
      "source": [
        "# Importa bibliotecas necessárias\n",
        "import numpy as np # Para operações numéricas, especialmente com arrays\n",
        "import pandas as pd # Para manipulação de dados em DataFrames\n",
        "from sklearn.preprocessing import StandardScaler, OneHotEncoder # Para pré-processamento de dados\n",
        "from sklearn.compose import make_column_transformer, make_column_selector # Para aplicar transformações a colunas específicas\n",
        "from sklearn.model_selection import train_test_split # Para dividir dados em conjuntos de treino e teste (não usado no código fornecido, mas útil)\n",
        "\n",
        "# Importa bibliotecas do TensorFlow/Keras para construir e treinar a rede neural\n",
        "from tensorflow import keras\n",
        "from tensorflow.keras import layers"
      ]
    },
    {
      "cell_type": "code",
      "source": [
        "# --- Carregar o Conjunto de Dados ---\n",
        "# Carrega o arquivo CSV 'fuel.csv' em um DataFrame do Pandas\n",
        "fuel = pd.read_csv('fuel.csv')"
      ],
      "metadata": {
        "id": "fecNWE3NLF6p"
      },
      "execution_count": 4,
      "outputs": []
    },
    {
      "cell_type": "code",
      "source": [
        "# --- Separar Recursos (X) e Alvo (y) ---\n",
        "# Cria uma cópia do DataFrame original para os recursos (X)\n",
        "X = fuel.copy()"
      ],
      "metadata": {
        "id": "bGCNnvWZLFmR"
      },
      "execution_count": 5,
      "outputs": []
    },
    {
      "cell_type": "code",
      "source": [
        "# Remove a coluna 'FE' (economia de combustível) de X e a armazena em y.\n",
        "# 'FE' é o que queremos prever, ou seja, nossa variável alvo.\n",
        "y = X.pop('FE')"
      ],
      "metadata": {
        "id": "3MIKEzc3RxOK"
      },
      "execution_count": 10,
      "outputs": []
    },
    {
      "cell_type": "code",
      "source": [
        "print(\"Dados originais (cabeçalho):\")\n",
        "print(fuel.head())\n",
        "print(\"\\nPrimeiras 5 linhas dos recursos (X) após separar o alvo:\")\n",
        "print(X.head())\n",
        "print(\"\\nPrimeiras 5 linhas do alvo (y):\")\n",
        "print(y.head())"
      ],
      "metadata": {
        "colab": {
          "base_uri": "https://localhost:8080/"
        },
        "id": "hBI9vYmXLFgK",
        "outputId": "22a1e0b5-d5f7-4257-bec1-389d44aa7628"
      },
      "execution_count": 11,
      "outputs": [
        {
          "output_type": "stream",
          "name": "stdout",
          "text": [
            "Dados originais (cabeçalho):\n",
            "   EngDispl  NumCyl Transmission       FE AirAspirationMethod  NumGears  \\\n",
            "0       4.7       8          AM6  28.0198  NaturallyAspirated         6   \n",
            "1       4.7       8           M6  25.6094  NaturallyAspirated         6   \n",
            "2       4.2       8           M6  26.8000  NaturallyAspirated         6   \n",
            "3       4.2       8          AM6  25.0451  NaturallyAspirated         6   \n",
            "4       5.2      10          AM6  24.8000  NaturallyAspirated         6   \n",
            "\n",
            "   TransLockup  TransCreeperGear          DriveDesc  IntakeValvePerCyl  \\\n",
            "0            1                 0  TwoWheelDriveRear                  2   \n",
            "1            1                 0  TwoWheelDriveRear                  2   \n",
            "2            1                 0      AllWheelDrive                  2   \n",
            "3            1                 0      AllWheelDrive                  2   \n",
            "4            0                 0      AllWheelDrive                  2   \n",
            "\n",
            "   ExhaustValvesPerCyl CarlineClassDesc  VarValveTiming  VarValveLift  \n",
            "0                    2         2Seaters               1             0  \n",
            "1                    2         2Seaters               1             0  \n",
            "2                    2         2Seaters               1             0  \n",
            "3                    2         2Seaters               1             0  \n",
            "4                    2         2Seaters               1             0  \n",
            "\n",
            "Primeiras 5 linhas dos recursos (X) após separar o alvo:\n",
            "   EngDispl  NumCyl Transmission AirAspirationMethod  NumGears  TransLockup  \\\n",
            "0       4.7       8          AM6  NaturallyAspirated         6            1   \n",
            "1       4.7       8           M6  NaturallyAspirated         6            1   \n",
            "2       4.2       8           M6  NaturallyAspirated         6            1   \n",
            "3       4.2       8          AM6  NaturallyAspirated         6            1   \n",
            "4       5.2      10          AM6  NaturallyAspirated         6            0   \n",
            "\n",
            "   TransCreeperGear          DriveDesc  IntakeValvePerCyl  \\\n",
            "0                 0  TwoWheelDriveRear                  2   \n",
            "1                 0  TwoWheelDriveRear                  2   \n",
            "2                 0      AllWheelDrive                  2   \n",
            "3                 0      AllWheelDrive                  2   \n",
            "4                 0      AllWheelDrive                  2   \n",
            "\n",
            "   ExhaustValvesPerCyl CarlineClassDesc  VarValveTiming  VarValveLift  \n",
            "0                    2         2Seaters               1             0  \n",
            "1                    2         2Seaters               1             0  \n",
            "2                    2         2Seaters               1             0  \n",
            "3                    2         2Seaters               1             0  \n",
            "4                    2         2Seaters               1             0  \n",
            "\n",
            "Primeiras 5 linhas do alvo (y):\n",
            "0    28.0198\n",
            "1    25.6094\n",
            "2    26.8000\n",
            "3    25.0451\n",
            "4    24.8000\n",
            "Name: FE, dtype: float64\n"
          ]
        }
      ]
    },
    {
      "cell_type": "markdown",
      "source": [
        "Explicação:\n",
        "\n",
        "*   **import numpy as np:** NumPy é a base para computação numérica em Python, especialmente com arrays e matrizes, que são fundamentais para Machine Learning.\n",
        "\n",
        "*   **import pandas as pd:** Pandas é uma biblioteca poderosa para manipulação e análise de dados, especialmente com DataFrames, que são tabelas de dados.\n",
        "\n",
        "*   **sklearn.preprocessing**.*: Módulos do scikit-learn usados para preparar os dados. **1. StandardScaler:** Padroniza recursos numéricos (média 0, desvio padrão 1). **2. OneHotEncoder**: Converte recursos categóricos (texto) em representação numérica \"one-hot\" (binária).\n",
        "\n",
        "*   **sklearn.compose**.*: Ajuda a aplicar diferentes transformações a diferentes tipos de colunas.\n",
        "1.\t**make_column_transformer**: Cria um objeto que aplica transformadores específicos a subconjuntos de colunas. 2. **make_column_selector**: Ajuda a selecionar colunas com base em seu tipo (numérico, objeto/categórico).\n",
        "\n",
        "*   **tensorflow.keras**.*: Keras é uma API de alto nível para construir e treinar modelos de aprendizado profundo (redes neurais).\n",
        "**1.\tkeras.Sequential**: Um modelo sequencial é uma pilha linear de camadas. **2.\tlayers.Dense:** Camadas totalmente conectadas de uma rede neural.\n",
        "\n",
        "*   **fuel = pd.read_csv(...)**: Carrega o arquivo fuel.csv em um DataFrame chamado fuel. O ../input/dl-course-data/ indica o caminho para o arquivo dentro do ambiente de execução (como Kaggle).\n",
        "\n",
        "*   **X = fuel.copy():** X conterá os recursos (características do carro) que usaremos para fazer a previsão. Fazemos uma cópia para não modificar o DataFrame original fuel.\n",
        "\n",
        "*   **y = X.pop('FE')**: y conterá a variável alvo (a economia de combustível FE). X.pop('FE') remove a coluna 'FE' de X e a atribui a y.\n"
      ],
      "metadata": {
        "id": "6iEdm3WWSNd4"
      }
    },
    {
      "cell_type": "markdown",
      "source": [
        "## Passo 2: Pré-processamento dos Dados\n",
        "Antes de alimentar os dados em uma rede neural, eles precisam ser limpos e transformados em um formato que o modelo possa entender. Isso é essencial para o desempenho do modelo."
      ],
      "metadata": {
        "id": "Mg-9AL1DV_63"
      }
    },
    {
      "cell_type": "code",
      "source": [
        "# --- Definir o Pré-processador ---\n",
        "# Cria um objeto ColumnTransformer para aplicar diferentes transformações a diferentes colunas.\n",
        "preprocessor = make_column_transformer(\n",
        "    # Para colunas numéricas:\n",
        "    # Aplica StandardScaler (padronização: média 0, desvio padrão 1).\n",
        "    # make_column_selector(dtype_include=np.number) seleciona todas as colunas numéricas.\n",
        "    (StandardScaler(),\n",
        "     make_column_selector(dtype_include=np.number)),\n",
        "    # Para colunas categóricas (objeto/texto):\n",
        "    # Aplica OneHotEncoder (converte categorias em vetores binários).\n",
        "    # sparse=False garante que a saída seja um array denso, não uma matriz esparsa.\n",
        "    # make_column_selector(dtype_include=object) seleciona todas as colunas de objeto/texto.\n",
        "    (OneHotEncoder(),\n",
        "     make_column_selector(dtype_include=object)),\n",
        ")\n",
        "\n",
        "# --- Aplicar o Pré-processamento aos Recursos (X) ---\n",
        "# fit_transform() aprende os parâmetros de transformação (ex: média, desvio padrão para StandardScaler; categorias únicas para OneHotEncoder)\n",
        "# e aplica essas transformações aos dados de X.\n",
        "X = preprocessor.fit_transform(X)\n",
        "\n",
        "# --- Transformar a Variável Alvo (y) ---\n",
        "# Aplica uma transformação logarítmica à variável alvo 'y'.\n",
        "# Isso é comum em regressão quando a variável alvo tem uma distribuição inclinada ou grandes variações.\n",
        "# Ajuda o modelo a aprender melhor e a reduzir o impacto de valores extremos.\n",
        "y = np.log(y)\n",
        "\n",
        "# --- Determinar o Formato de Entrada para a Rede Neural ---\n",
        "# input_shape será uma lista contendo o número de recursos após o pré-processamento.\n",
        "# X.shape[1] nos dá o número de colunas (recursos) no array X transformado.\n",
        "input_shape = [X.shape[1]]\n",
        "print(\"Formato de entrada para o modelo (número de recursos): {}\".format(input_shape))\n",
        "\n",
        "# --- Visualizar Dados Pré-processados ---\n",
        "print(\"\\nDados originais (cabeçalho) para comparação:\")\n",
        "print(fuel.head())\n",
        "print(\"\\nPrimeiras 5 linhas dos recursos (X) após pré-processamento:\")\n",
        "# Convertemos o array numpy X de volta para um DataFrame temporariamente para melhor visualização.\n",
        "# As colunas não têm nomes aqui, pois são o resultado das transformações.\n",
        "print(pd.DataFrame(X[:10,:]).head())"
      ],
      "metadata": {
        "colab": {
          "base_uri": "https://localhost:8080/"
        },
        "id": "pj8u92KYLFc6",
        "outputId": "4de5138d-d279-465a-ad5e-956cc61de149"
      },
      "execution_count": 15,
      "outputs": [
        {
          "output_type": "stream",
          "name": "stdout",
          "text": [
            "Formato de entrada para o modelo (número de recursos): [50]\n",
            "\n",
            "Dados originais (cabeçalho) para comparação:\n",
            "   EngDispl  NumCyl Transmission       FE AirAspirationMethod  NumGears  \\\n",
            "0       4.7       8          AM6  28.0198  NaturallyAspirated         6   \n",
            "1       4.7       8           M6  25.6094  NaturallyAspirated         6   \n",
            "2       4.2       8           M6  26.8000  NaturallyAspirated         6   \n",
            "3       4.2       8          AM6  25.0451  NaturallyAspirated         6   \n",
            "4       5.2      10          AM6  24.8000  NaturallyAspirated         6   \n",
            "\n",
            "   TransLockup  TransCreeperGear          DriveDesc  IntakeValvePerCyl  \\\n",
            "0            1                 0  TwoWheelDriveRear                  2   \n",
            "1            1                 0  TwoWheelDriveRear                  2   \n",
            "2            1                 0      AllWheelDrive                  2   \n",
            "3            1                 0      AllWheelDrive                  2   \n",
            "4            0                 0      AllWheelDrive                  2   \n",
            "\n",
            "   ExhaustValvesPerCyl CarlineClassDesc  VarValveTiming  VarValveLift  \n",
            "0                    2         2Seaters               1             0  \n",
            "1                    2         2Seaters               1             0  \n",
            "2                    2         2Seaters               1             0  \n",
            "3                    2         2Seaters               1             0  \n",
            "4                    2         2Seaters               1             0  \n",
            "\n",
            "Primeiras 5 linhas dos recursos (X) após pré-processamento:\n",
            "                                                   0\n",
            "0  <Compressed Sparse Row sparse matrix of dtype ...\n",
            "1  <Compressed Sparse Row sparse matrix of dtype ...\n",
            "2  <Compressed Sparse Row sparse matrix of dtype ...\n",
            "3  <Compressed Sparse Row sparse matrix of dtype ...\n",
            "4  <Compressed Sparse Row sparse matrix of dtype ...\n"
          ]
        }
      ]
    },
    {
      "cell_type": "markdown",
      "source": [
        "**Explicação:**\n",
        "\n",
        "*   **preprocessor = make_column_transformer(...):** Este é um passo essencial. Ele nos permite aplicar diferentes tipos de pré-processamento a diferentes tipos de colunas em nosso DataFrame. **1.\tStandardScaler():** As redes neurais funcionam melhor quando os recursos estão em escalas semelhantes. **O StandardScaler** transforma os dados para que tenham uma média de 0 e um desvio padrão de 1. 3.**   OneHotEncoder(sparse=False)**: As redes neurais não podem lidar diretamente com dados de texto (categóricos). O OneHotEncoder converte cada categoria em uma nova coluna binária (0 ou 1). Por exemplo, se tivermos \"Tipo de Motor: V6, V4\", ele criará duas colunas \"Tipo de Motor_V6\" e \"Tipo de Motor_V4\". sparse=False garante que a saída seja um array denso (fácil de visualizar), não uma matriz esparsa.\n",
        "\n",
        "*  * X = preprocessor.fit_transform(X):* Este comando faz duas coisas: **1.\tfit:** Aprende as transformações necessárias (ex: quais são as médias e desvios padrão para StandardScaler, quais são as categorias únicas para OneHotEncoder). **2.\ttransform:** Aplica essas transformações aos dados X. O resultado X agora é um array NumPy, totalmente numérico e padronizado.\n",
        "\n",
        "*  **y = np.log(y):** Aplicar a transformação logarítmica ao alvo (y) é uma prática comum em problemas de regressão. Isso pode ajudar a:\n",
        "**1.\tNormalizar** a distribuição do alvo se ela for muito inclinada. **2.\tReduzir** o impacto de valores atípicos (outliers). ** 3.\tMudar** a relação de não-linear para linear (em alguns casos), facilitando o aprendizado do modelo.\n",
        "\n",
        "*   **input_shape = [X.shape[1]]:** O formato de entrada é essencial para a primeira camada da rede neural. X.shape[1] nos dá o número total de recursos (colunas) após todas as transformações.\n",
        "\n"
      ],
      "metadata": {
        "id": "l6PVm8bPXODc"
      }
    },
    {
      "cell_type": "markdown",
      "source": [
        "## Passo 3: Construir o Modelo de Rede Neural\n",
        "Agora que os dados estão prontos, podemos definir a arquitetura da nossa rede neural."
      ],
      "metadata": {
        "id": "LZN-yP6WZSav"
      }
    },
    {
      "cell_type": "code",
      "source": [
        "# --- Construir o Modelo Sequencial de Keras ---\n",
        "model = keras.Sequential([\n",
        "    # Primeira camada densa (totalmente conectada)\n",
        "    # 128 neurônios, função de ativação 'relu' (Rectified Linear Unit).\n",
        "    # input_shape define o formato da entrada para esta camada (número de recursos).\n",
        "    layers.Dense(128, activation='relu', input_shape=input_shape),\n",
        "\n",
        "    # Segunda camada densa\n",
        "    # 128 neurônios, função de ativação 'relu'.\n",
        "    layers.Dense(128, activation='relu'),\n",
        "\n",
        "    # Terceira camada densa\n",
        "    # 64 neurônios, função de ativação 'relu'.\n",
        "    layers.Dense(64, activation='relu'),\n",
        "\n",
        "    # Camada de saída\n",
        "    # 1 neurônio, pois estamos prevendo um único valor numérico (economia de combustível).\n",
        "    # Nenhuma função de ativação explícita é definida para a camada de saída em problemas de regressão,\n",
        "    # o que por padrão resulta em uma ativação linear.\n",
        "    layers.Dense(1),\n",
        "])\n",
        "\n",
        "print(\"\\nResumo da arquitetura do modelo:\")\n",
        "model.summary()\n"
      ],
      "metadata": {
        "colab": {
          "base_uri": "https://localhost:8080/",
          "height": 361
        },
        "id": "sW8qGf_SWS9V",
        "outputId": "edba934a-9a01-4adc-f7e1-e915da9af711"
      },
      "execution_count": 16,
      "outputs": [
        {
          "output_type": "stream",
          "name": "stdout",
          "text": [
            "\n",
            "Resumo da arquitetura do modelo:\n"
          ]
        },
        {
          "output_type": "stream",
          "name": "stderr",
          "text": [
            "/usr/local/lib/python3.12/dist-packages/keras/src/layers/core/dense.py:93: UserWarning: Do not pass an `input_shape`/`input_dim` argument to a layer. When using Sequential models, prefer using an `Input(shape)` object as the first layer in the model instead.\n",
            "  super().__init__(activity_regularizer=activity_regularizer, **kwargs)\n"
          ]
        },
        {
          "output_type": "display_data",
          "data": {
            "text/plain": [
              "\u001b[1mModel: \"sequential\"\u001b[0m\n"
            ],
            "text/html": [
              "<pre style=\"white-space:pre;overflow-x:auto;line-height:normal;font-family:Menlo,'DejaVu Sans Mono',consolas,'Courier New',monospace\"><span style=\"font-weight: bold\">Model: \"sequential\"</span>\n",
              "</pre>\n"
            ]
          },
          "metadata": {}
        },
        {
          "output_type": "display_data",
          "data": {
            "text/plain": [
              "┏━━━━━━━━━━━━━━━━━━━━━━━━━━━━━━━━━┳━━━━━━━━━━━━━━━━━━━━━━━━┳━━━━━━━━━━━━━━━┓\n",
              "┃\u001b[1m \u001b[0m\u001b[1mLayer (type)                   \u001b[0m\u001b[1m \u001b[0m┃\u001b[1m \u001b[0m\u001b[1mOutput Shape          \u001b[0m\u001b[1m \u001b[0m┃\u001b[1m \u001b[0m\u001b[1m      Param #\u001b[0m\u001b[1m \u001b[0m┃\n",
              "┡━━━━━━━━━━━━━━━━━━━━━━━━━━━━━━━━━╇━━━━━━━━━━━━━━━━━━━━━━━━╇━━━━━━━━━━━━━━━┩\n",
              "│ dense (\u001b[38;5;33mDense\u001b[0m)                   │ (\u001b[38;5;45mNone\u001b[0m, \u001b[38;5;34m128\u001b[0m)            │         \u001b[38;5;34m6,528\u001b[0m │\n",
              "├─────────────────────────────────┼────────────────────────┼───────────────┤\n",
              "│ dense_1 (\u001b[38;5;33mDense\u001b[0m)                 │ (\u001b[38;5;45mNone\u001b[0m, \u001b[38;5;34m128\u001b[0m)            │        \u001b[38;5;34m16,512\u001b[0m │\n",
              "├─────────────────────────────────┼────────────────────────┼───────────────┤\n",
              "│ dense_2 (\u001b[38;5;33mDense\u001b[0m)                 │ (\u001b[38;5;45mNone\u001b[0m, \u001b[38;5;34m64\u001b[0m)             │         \u001b[38;5;34m8,256\u001b[0m │\n",
              "├─────────────────────────────────┼────────────────────────┼───────────────┤\n",
              "│ dense_3 (\u001b[38;5;33mDense\u001b[0m)                 │ (\u001b[38;5;45mNone\u001b[0m, \u001b[38;5;34m1\u001b[0m)              │            \u001b[38;5;34m65\u001b[0m │\n",
              "└─────────────────────────────────┴────────────────────────┴───────────────┘\n"
            ],
            "text/html": [
              "<pre style=\"white-space:pre;overflow-x:auto;line-height:normal;font-family:Menlo,'DejaVu Sans Mono',consolas,'Courier New',monospace\">┏━━━━━━━━━━━━━━━━━━━━━━━━━━━━━━━━━┳━━━━━━━━━━━━━━━━━━━━━━━━┳━━━━━━━━━━━━━━━┓\n",
              "┃<span style=\"font-weight: bold\"> Layer (type)                    </span>┃<span style=\"font-weight: bold\"> Output Shape           </span>┃<span style=\"font-weight: bold\">       Param # </span>┃\n",
              "┡━━━━━━━━━━━━━━━━━━━━━━━━━━━━━━━━━╇━━━━━━━━━━━━━━━━━━━━━━━━╇━━━━━━━━━━━━━━━┩\n",
              "│ dense (<span style=\"color: #0087ff; text-decoration-color: #0087ff\">Dense</span>)                   │ (<span style=\"color: #00d7ff; text-decoration-color: #00d7ff\">None</span>, <span style=\"color: #00af00; text-decoration-color: #00af00\">128</span>)            │         <span style=\"color: #00af00; text-decoration-color: #00af00\">6,528</span> │\n",
              "├─────────────────────────────────┼────────────────────────┼───────────────┤\n",
              "│ dense_1 (<span style=\"color: #0087ff; text-decoration-color: #0087ff\">Dense</span>)                 │ (<span style=\"color: #00d7ff; text-decoration-color: #00d7ff\">None</span>, <span style=\"color: #00af00; text-decoration-color: #00af00\">128</span>)            │        <span style=\"color: #00af00; text-decoration-color: #00af00\">16,512</span> │\n",
              "├─────────────────────────────────┼────────────────────────┼───────────────┤\n",
              "│ dense_2 (<span style=\"color: #0087ff; text-decoration-color: #0087ff\">Dense</span>)                 │ (<span style=\"color: #00d7ff; text-decoration-color: #00d7ff\">None</span>, <span style=\"color: #00af00; text-decoration-color: #00af00\">64</span>)             │         <span style=\"color: #00af00; text-decoration-color: #00af00\">8,256</span> │\n",
              "├─────────────────────────────────┼────────────────────────┼───────────────┤\n",
              "│ dense_3 (<span style=\"color: #0087ff; text-decoration-color: #0087ff\">Dense</span>)                 │ (<span style=\"color: #00d7ff; text-decoration-color: #00d7ff\">None</span>, <span style=\"color: #00af00; text-decoration-color: #00af00\">1</span>)              │            <span style=\"color: #00af00; text-decoration-color: #00af00\">65</span> │\n",
              "└─────────────────────────────────┴────────────────────────┴───────────────┘\n",
              "</pre>\n"
            ]
          },
          "metadata": {}
        },
        {
          "output_type": "display_data",
          "data": {
            "text/plain": [
              "\u001b[1m Total params: \u001b[0m\u001b[38;5;34m31,361\u001b[0m (122.50 KB)\n"
            ],
            "text/html": [
              "<pre style=\"white-space:pre;overflow-x:auto;line-height:normal;font-family:Menlo,'DejaVu Sans Mono',consolas,'Courier New',monospace\"><span style=\"font-weight: bold\"> Total params: </span><span style=\"color: #00af00; text-decoration-color: #00af00\">31,361</span> (122.50 KB)\n",
              "</pre>\n"
            ]
          },
          "metadata": {}
        },
        {
          "output_type": "display_data",
          "data": {
            "text/plain": [
              "\u001b[1m Trainable params: \u001b[0m\u001b[38;5;34m31,361\u001b[0m (122.50 KB)\n"
            ],
            "text/html": [
              "<pre style=\"white-space:pre;overflow-x:auto;line-height:normal;font-family:Menlo,'DejaVu Sans Mono',consolas,'Courier New',monospace\"><span style=\"font-weight: bold\"> Trainable params: </span><span style=\"color: #00af00; text-decoration-color: #00af00\">31,361</span> (122.50 KB)\n",
              "</pre>\n"
            ]
          },
          "metadata": {}
        },
        {
          "output_type": "display_data",
          "data": {
            "text/plain": [
              "\u001b[1m Non-trainable params: \u001b[0m\u001b[38;5;34m0\u001b[0m (0.00 B)\n"
            ],
            "text/html": [
              "<pre style=\"white-space:pre;overflow-x:auto;line-height:normal;font-family:Menlo,'DejaVu Sans Mono',consolas,'Courier New',monospace\"><span style=\"font-weight: bold\"> Non-trainable params: </span><span style=\"color: #00af00; text-decoration-color: #00af00\">0</span> (0.00 B)\n",
              "</pre>\n"
            ]
          },
          "metadata": {}
        }
      ]
    },
    {
      "cell_type": "markdown",
      "source": [
        "**Explicação:**\n",
        "\n",
        "\n",
        "\n",
        "*   **model = keras.Sequential([...]):** Criamos um modelo sequencial, que é uma maneira simples de construir redes neurais em Keras, onde as camadas são empilhadas uma após a outra.\n",
        "\n",
        "*   **layers.Dense(...)**: Esta é uma camada \"totalmente conectada\" (ou densa). Cada neurônio em uma camada Dense está conectado a todos os neurônios da camada anterior.\n",
        "*   * 128, 128, 64: Estes são o número de neurônios (unidades) em cada camada oculta. Mais neurônios permitem que o modelo aprenda padrões mais complexos, mas também aumentam a chance de overfitting (ajuste excessivo aos dados de treinamento).Item da lista\n",
        "*   * activation='relu': ReLU (Rectified Linear Unit) é uma função de ativação popular para camadas ocultas. Ela introduz não-linearidade no modelo, permitindo que ele aprenda relações mais complexas do que uma simples regressão linear. Basicamente, ela retorna x se x > 0 e 0 caso contrário.\n",
        "*   * **input_shape=input_shape**: Esta opção é obrigatória apenas para a primeira camada do modelo. Ela diz à rede quantos recursos o modelo receberá como entrada.\n",
        "\n",
        "*   **layers.Dense(1):** Esta é a camada de saída. Como estamos realizando uma regressão (prevendo um valor numérico contínuo), precisamos de apenas 1 neurônio na camada de saída. Não especificamos uma função de ativação para esta camada, o que significa que Keras usará uma ativação linear por padrão, apropriada para regressão.\n"
      ],
      "metadata": {
        "id": "iUqJ-pmsZm1-"
      }
    },
    {
      "cell_type": "markdown",
      "source": [
        "## Passo 4: Compilar o Modelo\n",
        "Após definir a arquitetura do modelo, precisamos compilá-lo. A compilação configura o processo de aprendizado do modelo."
      ],
      "metadata": {
        "id": "EJUIJz0DbTpq"
      }
    },
    {
      "cell_type": "code",
      "source": [
        "# --- Compilar o Modelo ---\n",
        "model.compile(\n",
        "    optimizer=\"adam\", # Otimizador: algoritmo que ajusta os pesos da rede durante o treinamento.\n",
        "    loss=\"mae\"        # Função de perda: métrica que o modelo tenta minimizar.\n",
        ")\n",
        "\n",
        "print(\"\\nModelo compilado com sucesso!\")\n"
      ],
      "metadata": {
        "colab": {
          "base_uri": "https://localhost:8080/"
        },
        "id": "hN0aiMvFWS6G",
        "outputId": "44dbc730-e0d3-4767-ff1b-dd6f70174b54"
      },
      "execution_count": 17,
      "outputs": [
        {
          "output_type": "stream",
          "name": "stdout",
          "text": [
            "\n",
            "Modelo compilado com sucesso!\n"
          ]
        }
      ]
    },
    {
      "cell_type": "markdown",
      "source": [
        "**Explicação:**\n",
        "\n",
        "\n",
        "*   **model.compile(...)**: Este passo prepara o modelo para o treinamento, configurando três parâmetros principais:\n",
        "*   **optimizer=\"adam\"**: O otimizador é o algoritmo que ajusta os pesos (conexões) da rede neural durante o treinamento para minimizar a função de perda. Adam é um otimizador popular e eficiente que geralmente funciona bem em uma ampla variedade de problemas.\n",
        "*   **loss=\"mae\"**: A função de perda (ou função de custo) é uma métrica que mede o quão bem o modelo está se saindo. O objetivo do treinamento é minimizar essa função.\n",
        "*   **mae significa \"Mean Absolute Error\"** (Erro Médio Absoluto). Ele calcula a média da diferença absoluta entre as previsões do modelo e os valores reais. É robusto a outliers (valores extremos) em comparação com o \"Mean Squared Error\" (MSE).\n"
      ],
      "metadata": {
        "id": "mAedmC6pbzzB"
      }
    },
    {
      "cell_type": "markdown",
      "source": [
        "## Passo 5: Treinar o Modelo\n",
        "Com o modelo compilado e os dados pré-processados, podemos finalmente treinar a rede neural.\n"
      ],
      "metadata": {
        "id": "aSguGAWPdBI-"
      }
    },
    {
      "cell_type": "code",
      "source": [
        "# --- Treinar o Modelo ---\n",
        "# O método fit() treina o modelo usando os dados fornecidos.\n",
        "history = model.fit(\n",
        "    X,           # Recursos de treinamento\n",
        "    y,           # Variáveis alvo de treinamento\n",
        "    batch_size=128, # Tamanho do batch: número de amostras processadas antes que os pesos do modelo sejam atualizados.\n",
        "    epochs=200   # Épocas: número de vezes que todo o conjunto de dados de treinamento será passado pela rede.\n",
        ")\n",
        "\n",
        "print(\"\\nTreinamento do modelo concluído!\")"
      ],
      "metadata": {
        "colab": {
          "base_uri": "https://localhost:8080/"
        },
        "id": "i4IowOaVWS3G",
        "outputId": "66e42ce4-44d2-4048-b131-3d1ec9a7545e"
      },
      "execution_count": 18,
      "outputs": [
        {
          "output_type": "stream",
          "name": "stdout",
          "text": [
            "Epoch 1/200\n",
            "\u001b[1m9/9\u001b[0m \u001b[32m━━━━━━━━━━━━━━━━━━━━\u001b[0m\u001b[37m\u001b[0m \u001b[1m1s\u001b[0m 9ms/step - loss: 3.0730\n",
            "Epoch 2/200\n",
            "\u001b[1m9/9\u001b[0m \u001b[32m━━━━━━━━━━━━━━━━━━━━\u001b[0m\u001b[37m\u001b[0m \u001b[1m0s\u001b[0m 10ms/step - loss: 1.0367\n",
            "Epoch 3/200\n",
            "\u001b[1m9/9\u001b[0m \u001b[32m━━━━━━━━━━━━━━━━━━━━\u001b[0m\u001b[37m\u001b[0m \u001b[1m0s\u001b[0m 10ms/step - loss: 0.6246\n",
            "Epoch 4/200\n",
            "\u001b[1m9/9\u001b[0m \u001b[32m━━━━━━━━━━━━━━━━━━━━\u001b[0m\u001b[37m\u001b[0m \u001b[1m0s\u001b[0m 9ms/step - loss: 0.3768 \n",
            "Epoch 5/200\n",
            "\u001b[1m9/9\u001b[0m \u001b[32m━━━━━━━━━━━━━━━━━━━━\u001b[0m\u001b[37m\u001b[0m \u001b[1m0s\u001b[0m 10ms/step - loss: 0.2482\n",
            "Epoch 6/200\n",
            "\u001b[1m9/9\u001b[0m \u001b[32m━━━━━━━━━━━━━━━━━━━━\u001b[0m\u001b[37m\u001b[0m \u001b[1m0s\u001b[0m 11ms/step - loss: 0.1910\n",
            "Epoch 7/200\n",
            "\u001b[1m9/9\u001b[0m \u001b[32m━━━━━━━━━━━━━━━━━━━━\u001b[0m\u001b[37m\u001b[0m \u001b[1m0s\u001b[0m 10ms/step - loss: 0.1526\n",
            "Epoch 8/200\n",
            "\u001b[1m9/9\u001b[0m \u001b[32m━━━━━━━━━━━━━━━━━━━━\u001b[0m\u001b[37m\u001b[0m \u001b[1m0s\u001b[0m 9ms/step - loss: 0.1250 \n",
            "Epoch 9/200\n",
            "\u001b[1m9/9\u001b[0m \u001b[32m━━━━━━━━━━━━━━━━━━━━\u001b[0m\u001b[37m\u001b[0m \u001b[1m0s\u001b[0m 10ms/step - loss: 0.1085\n",
            "Epoch 10/200\n",
            "\u001b[1m9/9\u001b[0m \u001b[32m━━━━━━━━━━━━━━━━━━━━\u001b[0m\u001b[37m\u001b[0m \u001b[1m0s\u001b[0m 9ms/step - loss: 0.0880 \n",
            "Epoch 11/200\n",
            "\u001b[1m9/9\u001b[0m \u001b[32m━━━━━━━━━━━━━━━━━━━━\u001b[0m\u001b[37m\u001b[0m \u001b[1m0s\u001b[0m 10ms/step - loss: 0.0817\n",
            "Epoch 12/200\n",
            "\u001b[1m9/9\u001b[0m \u001b[32m━━━━━━━━━━━━━━━━━━━━\u001b[0m\u001b[37m\u001b[0m \u001b[1m0s\u001b[0m 12ms/step - loss: 0.0777\n",
            "Epoch 13/200\n",
            "\u001b[1m9/9\u001b[0m \u001b[32m━━━━━━━━━━━━━━━━━━━━\u001b[0m\u001b[37m\u001b[0m \u001b[1m0s\u001b[0m 23ms/step - loss: 0.0646\n",
            "Epoch 14/200\n",
            "\u001b[1m9/9\u001b[0m \u001b[32m━━━━━━━━━━━━━━━━━━━━\u001b[0m\u001b[37m\u001b[0m \u001b[1m1s\u001b[0m 44ms/step - loss: 0.0650\n",
            "Epoch 15/200\n",
            "\u001b[1m9/9\u001b[0m \u001b[32m━━━━━━━━━━━━━━━━━━━━\u001b[0m\u001b[37m\u001b[0m \u001b[1m1s\u001b[0m 37ms/step - loss: 0.0597\n",
            "Epoch 16/200\n",
            "\u001b[1m9/9\u001b[0m \u001b[32m━━━━━━━━━━━━━━━━━━━━\u001b[0m\u001b[37m\u001b[0m \u001b[1m0s\u001b[0m 16ms/step - loss: 0.0566\n",
            "Epoch 17/200\n",
            "\u001b[1m9/9\u001b[0m \u001b[32m━━━━━━━━━━━━━━━━━━━━\u001b[0m\u001b[37m\u001b[0m \u001b[1m0s\u001b[0m 16ms/step - loss: 0.0612\n",
            "Epoch 18/200\n",
            "\u001b[1m9/9\u001b[0m \u001b[32m━━━━━━━━━━━━━━━━━━━━\u001b[0m\u001b[37m\u001b[0m \u001b[1m0s\u001b[0m 14ms/step - loss: 0.0602 \n",
            "Epoch 19/200\n",
            "\u001b[1m9/9\u001b[0m \u001b[32m━━━━━━━━━━━━━━━━━━━━\u001b[0m\u001b[37m\u001b[0m \u001b[1m0s\u001b[0m 9ms/step - loss: 0.0588 \n",
            "Epoch 20/200\n",
            "\u001b[1m9/9\u001b[0m \u001b[32m━━━━━━━━━━━━━━━━━━━━\u001b[0m\u001b[37m\u001b[0m \u001b[1m0s\u001b[0m 9ms/step - loss: 0.0517 \n",
            "Epoch 21/200\n",
            "\u001b[1m9/9\u001b[0m \u001b[32m━━━━━━━━━━━━━━━━━━━━\u001b[0m\u001b[37m\u001b[0m \u001b[1m0s\u001b[0m 10ms/step - loss: 0.0545\n",
            "Epoch 22/200\n",
            "\u001b[1m9/9\u001b[0m \u001b[32m━━━━━━━━━━━━━━━━━━━━\u001b[0m\u001b[37m\u001b[0m \u001b[1m0s\u001b[0m 9ms/step - loss: 0.0477 \n",
            "Epoch 23/200\n",
            "\u001b[1m9/9\u001b[0m \u001b[32m━━━━━━━━━━━━━━━━━━━━\u001b[0m\u001b[37m\u001b[0m \u001b[1m0s\u001b[0m 10ms/step - loss: 0.0493\n",
            "Epoch 24/200\n",
            "\u001b[1m9/9\u001b[0m \u001b[32m━━━━━━━━━━━━━━━━━━━━\u001b[0m\u001b[37m\u001b[0m \u001b[1m0s\u001b[0m 9ms/step - loss: 0.0437 \n",
            "Epoch 25/200\n",
            "\u001b[1m9/9\u001b[0m \u001b[32m━━━━━━━━━━━━━━━━━━━━\u001b[0m\u001b[37m\u001b[0m \u001b[1m0s\u001b[0m 11ms/step - loss: 0.0472\n",
            "Epoch 26/200\n",
            "\u001b[1m9/9\u001b[0m \u001b[32m━━━━━━━━━━━━━━━━━━━━\u001b[0m\u001b[37m\u001b[0m \u001b[1m0s\u001b[0m 9ms/step - loss: 0.0446 \n",
            "Epoch 27/200\n",
            "\u001b[1m9/9\u001b[0m \u001b[32m━━━━━━━━━━━━━━━━━━━━\u001b[0m\u001b[37m\u001b[0m \u001b[1m0s\u001b[0m 9ms/step - loss: 0.0458 \n",
            "Epoch 28/200\n",
            "\u001b[1m9/9\u001b[0m \u001b[32m━━━━━━━━━━━━━━━━━━━━\u001b[0m\u001b[37m\u001b[0m \u001b[1m0s\u001b[0m 9ms/step - loss: 0.0480 \n",
            "Epoch 29/200\n",
            "\u001b[1m9/9\u001b[0m \u001b[32m━━━━━━━━━━━━━━━━━━━━\u001b[0m\u001b[37m\u001b[0m \u001b[1m0s\u001b[0m 9ms/step - loss: 0.0541 \n",
            "Epoch 30/200\n",
            "\u001b[1m9/9\u001b[0m \u001b[32m━━━━━━━━━━━━━━━━━━━━\u001b[0m\u001b[37m\u001b[0m \u001b[1m0s\u001b[0m 9ms/step - loss: 0.0449 \n",
            "Epoch 31/200\n",
            "\u001b[1m9/9\u001b[0m \u001b[32m━━━━━━━━━━━━━━━━━━━━\u001b[0m\u001b[37m\u001b[0m \u001b[1m0s\u001b[0m 10ms/step - loss: 0.0403\n",
            "Epoch 32/200\n",
            "\u001b[1m9/9\u001b[0m \u001b[32m━━━━━━━━━━━━━━━━━━━━\u001b[0m\u001b[37m\u001b[0m \u001b[1m0s\u001b[0m 9ms/step - loss: 0.0455 \n",
            "Epoch 33/200\n",
            "\u001b[1m9/9\u001b[0m \u001b[32m━━━━━━━━━━━━━━━━━━━━\u001b[0m\u001b[37m\u001b[0m \u001b[1m0s\u001b[0m 10ms/step - loss: 0.0517\n",
            "Epoch 34/200\n",
            "\u001b[1m9/9\u001b[0m \u001b[32m━━━━━━━━━━━━━━━━━━━━\u001b[0m\u001b[37m\u001b[0m \u001b[1m0s\u001b[0m 9ms/step - loss: 0.0406 \n",
            "Epoch 35/200\n",
            "\u001b[1m9/9\u001b[0m \u001b[32m━━━━━━━━━━━━━━━━━━━━\u001b[0m\u001b[37m\u001b[0m \u001b[1m0s\u001b[0m 11ms/step - loss: 0.0466\n",
            "Epoch 36/200\n",
            "\u001b[1m9/9\u001b[0m \u001b[32m━━━━━━━━━━━━━━━━━━━━\u001b[0m\u001b[37m\u001b[0m \u001b[1m0s\u001b[0m 9ms/step - loss: 0.0467 \n",
            "Epoch 37/200\n",
            "\u001b[1m9/9\u001b[0m \u001b[32m━━━━━━━━━━━━━━━━━━━━\u001b[0m\u001b[37m\u001b[0m \u001b[1m0s\u001b[0m 10ms/step - loss: 0.0433\n",
            "Epoch 38/200\n",
            "\u001b[1m9/9\u001b[0m \u001b[32m━━━━━━━━━━━━━━━━━━━━\u001b[0m\u001b[37m\u001b[0m \u001b[1m0s\u001b[0m 9ms/step - loss: 0.0435 \n",
            "Epoch 39/200\n",
            "\u001b[1m9/9\u001b[0m \u001b[32m━━━━━━━━━━━━━━━━━━━━\u001b[0m\u001b[37m\u001b[0m \u001b[1m0s\u001b[0m 10ms/step - loss: 0.0446\n",
            "Epoch 40/200\n",
            "\u001b[1m9/9\u001b[0m \u001b[32m━━━━━━━━━━━━━━━━━━━━\u001b[0m\u001b[37m\u001b[0m \u001b[1m0s\u001b[0m 10ms/step - loss: 0.0407\n",
            "Epoch 41/200\n",
            "\u001b[1m9/9\u001b[0m \u001b[32m━━━━━━━━━━━━━━━━━━━━\u001b[0m\u001b[37m\u001b[0m \u001b[1m0s\u001b[0m 10ms/step - loss: 0.0405\n",
            "Epoch 42/200\n",
            "\u001b[1m9/9\u001b[0m \u001b[32m━━━━━━━━━━━━━━━━━━━━\u001b[0m\u001b[37m\u001b[0m \u001b[1m0s\u001b[0m 9ms/step - loss: 0.0446 \n",
            "Epoch 43/200\n",
            "\u001b[1m9/9\u001b[0m \u001b[32m━━━━━━━━━━━━━━━━━━━━\u001b[0m\u001b[37m\u001b[0m \u001b[1m0s\u001b[0m 10ms/step - loss: 0.0412\n",
            "Epoch 44/200\n",
            "\u001b[1m9/9\u001b[0m \u001b[32m━━━━━━━━━━━━━━━━━━━━\u001b[0m\u001b[37m\u001b[0m \u001b[1m0s\u001b[0m 9ms/step - loss: 0.0368 \n",
            "Epoch 45/200\n",
            "\u001b[1m9/9\u001b[0m \u001b[32m━━━━━━━━━━━━━━━━━━━━\u001b[0m\u001b[37m\u001b[0m \u001b[1m0s\u001b[0m 10ms/step - loss: 0.0362\n",
            "Epoch 46/200\n",
            "\u001b[1m9/9\u001b[0m \u001b[32m━━━━━━━━━━━━━━━━━━━━\u001b[0m\u001b[37m\u001b[0m \u001b[1m0s\u001b[0m 9ms/step - loss: 0.0393 \n",
            "Epoch 47/200\n",
            "\u001b[1m9/9\u001b[0m \u001b[32m━━━━━━━━━━━━━━━━━━━━\u001b[0m\u001b[37m\u001b[0m \u001b[1m0s\u001b[0m 10ms/step - loss: 0.0364\n",
            "Epoch 48/200\n",
            "\u001b[1m9/9\u001b[0m \u001b[32m━━━━━━━━━━━━━━━━━━━━\u001b[0m\u001b[37m\u001b[0m \u001b[1m0s\u001b[0m 11ms/step - loss: 0.0429\n",
            "Epoch 49/200\n",
            "\u001b[1m9/9\u001b[0m \u001b[32m━━━━━━━━━━━━━━━━━━━━\u001b[0m\u001b[37m\u001b[0m \u001b[1m0s\u001b[0m 9ms/step - loss: 0.0520 \n",
            "Epoch 50/200\n",
            "\u001b[1m9/9\u001b[0m \u001b[32m━━━━━━━━━━━━━━━━━━━━\u001b[0m\u001b[37m\u001b[0m \u001b[1m0s\u001b[0m 9ms/step - loss: 0.0542 \n",
            "Epoch 51/200\n",
            "\u001b[1m9/9\u001b[0m \u001b[32m━━━━━━━━━━━━━━━━━━━━\u001b[0m\u001b[37m\u001b[0m \u001b[1m0s\u001b[0m 10ms/step - loss: 0.0412\n",
            "Epoch 52/200\n",
            "\u001b[1m9/9\u001b[0m \u001b[32m━━━━━━━━━━━━━━━━━━━━\u001b[0m\u001b[37m\u001b[0m \u001b[1m0s\u001b[0m 9ms/step - loss: 0.0346 \n",
            "Epoch 53/200\n",
            "\u001b[1m9/9\u001b[0m \u001b[32m━━━━━━━━━━━━━━━━━━━━\u001b[0m\u001b[37m\u001b[0m \u001b[1m0s\u001b[0m 10ms/step - loss: 0.0335\n",
            "Epoch 54/200\n",
            "\u001b[1m9/9\u001b[0m \u001b[32m━━━━━━━━━━━━━━━━━━━━\u001b[0m\u001b[37m\u001b[0m \u001b[1m0s\u001b[0m 9ms/step - loss: 0.0353 \n",
            "Epoch 55/200\n",
            "\u001b[1m9/9\u001b[0m \u001b[32m━━━━━━━━━━━━━━━━━━━━\u001b[0m\u001b[37m\u001b[0m \u001b[1m0s\u001b[0m 10ms/step - loss: 0.0315\n",
            "Epoch 56/200\n",
            "\u001b[1m9/9\u001b[0m \u001b[32m━━━━━━━━━━━━━━━━━━━━\u001b[0m\u001b[37m\u001b[0m \u001b[1m0s\u001b[0m 10ms/step - loss: 0.0314\n",
            "Epoch 57/200\n",
            "\u001b[1m9/9\u001b[0m \u001b[32m━━━━━━━━━━━━━━━━━━━━\u001b[0m\u001b[37m\u001b[0m \u001b[1m0s\u001b[0m 10ms/step - loss: 0.0322\n",
            "Epoch 58/200\n",
            "\u001b[1m9/9\u001b[0m \u001b[32m━━━━━━━━━━━━━━━━━━━━\u001b[0m\u001b[37m\u001b[0m \u001b[1m0s\u001b[0m 9ms/step - loss: 0.0328 \n",
            "Epoch 59/200\n",
            "\u001b[1m9/9\u001b[0m \u001b[32m━━━━━━━━━━━━━━━━━━━━\u001b[0m\u001b[37m\u001b[0m \u001b[1m0s\u001b[0m 10ms/step - loss: 0.0354\n",
            "Epoch 60/200\n",
            "\u001b[1m9/9\u001b[0m \u001b[32m━━━━━━━━━━━━━━━━━━━━\u001b[0m\u001b[37m\u001b[0m \u001b[1m0s\u001b[0m 9ms/step - loss: 0.0341 \n",
            "Epoch 61/200\n",
            "\u001b[1m9/9\u001b[0m \u001b[32m━━━━━━━━━━━━━━━━━━━━\u001b[0m\u001b[37m\u001b[0m \u001b[1m0s\u001b[0m 10ms/step - loss: 0.0318\n",
            "Epoch 62/200\n",
            "\u001b[1m9/9\u001b[0m \u001b[32m━━━━━━━━━━━━━━━━━━━━\u001b[0m\u001b[37m\u001b[0m \u001b[1m0s\u001b[0m 10ms/step - loss: 0.0393\n",
            "Epoch 63/200\n",
            "\u001b[1m9/9\u001b[0m \u001b[32m━━━━━━━━━━━━━━━━━━━━\u001b[0m\u001b[37m\u001b[0m \u001b[1m0s\u001b[0m 12ms/step - loss: 0.0378\n",
            "Epoch 64/200\n",
            "\u001b[1m9/9\u001b[0m \u001b[32m━━━━━━━━━━━━━━━━━━━━\u001b[0m\u001b[37m\u001b[0m \u001b[1m0s\u001b[0m 10ms/step - loss: 0.0431\n",
            "Epoch 65/200\n",
            "\u001b[1m9/9\u001b[0m \u001b[32m━━━━━━━━━━━━━━━━━━━━\u001b[0m\u001b[37m\u001b[0m \u001b[1m0s\u001b[0m 9ms/step - loss: 0.0435 \n",
            "Epoch 66/200\n",
            "\u001b[1m9/9\u001b[0m \u001b[32m━━━━━━━━━━━━━━━━━━━━\u001b[0m\u001b[37m\u001b[0m \u001b[1m0s\u001b[0m 9ms/step - loss: 0.0403 \n",
            "Epoch 67/200\n",
            "\u001b[1m9/9\u001b[0m \u001b[32m━━━━━━━━━━━━━━━━━━━━\u001b[0m\u001b[37m\u001b[0m \u001b[1m0s\u001b[0m 10ms/step - loss: 0.0404\n",
            "Epoch 68/200\n",
            "\u001b[1m9/9\u001b[0m \u001b[32m━━━━━━━━━━━━━━━━━━━━\u001b[0m\u001b[37m\u001b[0m \u001b[1m0s\u001b[0m 10ms/step - loss: 0.0407\n",
            "Epoch 69/200\n",
            "\u001b[1m9/9\u001b[0m \u001b[32m━━━━━━━━━━━━━━━━━━━━\u001b[0m\u001b[37m\u001b[0m \u001b[1m0s\u001b[0m 9ms/step - loss: 0.0402 \n",
            "Epoch 70/200\n",
            "\u001b[1m9/9\u001b[0m \u001b[32m━━━━━━━━━━━━━━━━━━━━\u001b[0m\u001b[37m\u001b[0m \u001b[1m0s\u001b[0m 10ms/step - loss: 0.0335\n",
            "Epoch 71/200\n",
            "\u001b[1m9/9\u001b[0m \u001b[32m━━━━━━━━━━━━━━━━━━━━\u001b[0m\u001b[37m\u001b[0m \u001b[1m0s\u001b[0m 10ms/step - loss: 0.0312\n",
            "Epoch 72/200\n",
            "\u001b[1m9/9\u001b[0m \u001b[32m━━━━━━━━━━━━━━━━━━━━\u001b[0m\u001b[37m\u001b[0m \u001b[1m0s\u001b[0m 9ms/step - loss: 0.0338 \n",
            "Epoch 73/200\n",
            "\u001b[1m9/9\u001b[0m \u001b[32m━━━━━━━━━━━━━━━━━━━━\u001b[0m\u001b[37m\u001b[0m \u001b[1m0s\u001b[0m 9ms/step - loss: 0.0325 \n",
            "Epoch 74/200\n",
            "\u001b[1m9/9\u001b[0m \u001b[32m━━━━━━━━━━━━━━━━━━━━\u001b[0m\u001b[37m\u001b[0m \u001b[1m0s\u001b[0m 9ms/step - loss: 0.0343 \n",
            "Epoch 75/200\n",
            "\u001b[1m9/9\u001b[0m \u001b[32m━━━━━━━━━━━━━━━━━━━━\u001b[0m\u001b[37m\u001b[0m \u001b[1m0s\u001b[0m 10ms/step - loss: 0.0345\n",
            "Epoch 76/200\n",
            "\u001b[1m9/9\u001b[0m \u001b[32m━━━━━━━━━━━━━━━━━━━━\u001b[0m\u001b[37m\u001b[0m \u001b[1m0s\u001b[0m 9ms/step - loss: 0.0298 \n",
            "Epoch 77/200\n",
            "\u001b[1m9/9\u001b[0m \u001b[32m━━━━━━━━━━━━━━━━━━━━\u001b[0m\u001b[37m\u001b[0m \u001b[1m0s\u001b[0m 10ms/step - loss: 0.0346\n",
            "Epoch 78/200\n",
            "\u001b[1m9/9\u001b[0m \u001b[32m━━━━━━━━━━━━━━━━━━━━\u001b[0m\u001b[37m\u001b[0m \u001b[1m0s\u001b[0m 11ms/step - loss: 0.0306\n",
            "Epoch 79/200\n",
            "\u001b[1m9/9\u001b[0m \u001b[32m━━━━━━━━━━━━━━━━━━━━\u001b[0m\u001b[37m\u001b[0m \u001b[1m0s\u001b[0m 10ms/step - loss: 0.0338\n",
            "Epoch 80/200\n",
            "\u001b[1m9/9\u001b[0m \u001b[32m━━━━━━━━━━━━━━━━━━━━\u001b[0m\u001b[37m\u001b[0m \u001b[1m0s\u001b[0m 9ms/step - loss: 0.0359 \n",
            "Epoch 81/200\n",
            "\u001b[1m9/9\u001b[0m \u001b[32m━━━━━━━━━━━━━━━━━━━━\u001b[0m\u001b[37m\u001b[0m \u001b[1m0s\u001b[0m 10ms/step - loss: 0.0368\n",
            "Epoch 82/200\n",
            "\u001b[1m9/9\u001b[0m \u001b[32m━━━━━━━━━━━━━━━━━━━━\u001b[0m\u001b[37m\u001b[0m \u001b[1m0s\u001b[0m 11ms/step - loss: 0.0363\n",
            "Epoch 83/200\n",
            "\u001b[1m9/9\u001b[0m \u001b[32m━━━━━━━━━━━━━━━━━━━━\u001b[0m\u001b[37m\u001b[0m \u001b[1m0s\u001b[0m 10ms/step - loss: 0.0404\n",
            "Epoch 84/200\n",
            "\u001b[1m9/9\u001b[0m \u001b[32m━━━━━━━━━━━━━━━━━━━━\u001b[0m\u001b[37m\u001b[0m \u001b[1m0s\u001b[0m 10ms/step - loss: 0.0472\n",
            "Epoch 85/200\n",
            "\u001b[1m9/9\u001b[0m \u001b[32m━━━━━━━━━━━━━━━━━━━━\u001b[0m\u001b[37m\u001b[0m \u001b[1m0s\u001b[0m 9ms/step - loss: 0.0370 \n",
            "Epoch 86/200\n",
            "\u001b[1m9/9\u001b[0m \u001b[32m━━━━━━━━━━━━━━━━━━━━\u001b[0m\u001b[37m\u001b[0m \u001b[1m0s\u001b[0m 9ms/step - loss: 0.0389 \n",
            "Epoch 87/200\n",
            "\u001b[1m9/9\u001b[0m \u001b[32m━━━━━━━━━━━━━━━━━━━━\u001b[0m\u001b[37m\u001b[0m \u001b[1m0s\u001b[0m 9ms/step - loss: 0.0370 \n",
            "Epoch 88/200\n",
            "\u001b[1m9/9\u001b[0m \u001b[32m━━━━━━━━━━━━━━━━━━━━\u001b[0m\u001b[37m\u001b[0m \u001b[1m0s\u001b[0m 10ms/step - loss: 0.0359\n",
            "Epoch 89/200\n",
            "\u001b[1m9/9\u001b[0m \u001b[32m━━━━━━━━━━━━━━━━━━━━\u001b[0m\u001b[37m\u001b[0m \u001b[1m0s\u001b[0m 10ms/step - loss: 0.0314\n",
            "Epoch 90/200\n",
            "\u001b[1m9/9\u001b[0m \u001b[32m━━━━━━━━━━━━━━━━━━━━\u001b[0m\u001b[37m\u001b[0m \u001b[1m0s\u001b[0m 10ms/step - loss: 0.0305\n",
            "Epoch 91/200\n",
            "\u001b[1m9/9\u001b[0m \u001b[32m━━━━━━━━━━━━━━━━━━━━\u001b[0m\u001b[37m\u001b[0m \u001b[1m0s\u001b[0m 10ms/step - loss: 0.0380\n",
            "Epoch 92/200\n",
            "\u001b[1m9/9\u001b[0m \u001b[32m━━━━━━━━━━━━━━━━━━━━\u001b[0m\u001b[37m\u001b[0m \u001b[1m0s\u001b[0m 16ms/step - loss: 0.0439\n",
            "Epoch 93/200\n",
            "\u001b[1m9/9\u001b[0m \u001b[32m━━━━━━━━━━━━━━━━━━━━\u001b[0m\u001b[37m\u001b[0m \u001b[1m0s\u001b[0m 14ms/step - loss: 0.0332 \n",
            "Epoch 94/200\n",
            "\u001b[1m9/9\u001b[0m \u001b[32m━━━━━━━━━━━━━━━━━━━━\u001b[0m\u001b[37m\u001b[0m \u001b[1m0s\u001b[0m 13ms/step - loss: 0.0310\n",
            "Epoch 95/200\n",
            "\u001b[1m9/9\u001b[0m \u001b[32m━━━━━━━━━━━━━━━━━━━━\u001b[0m\u001b[37m\u001b[0m \u001b[1m0s\u001b[0m 13ms/step - loss: 0.0303\n",
            "Epoch 96/200\n",
            "\u001b[1m9/9\u001b[0m \u001b[32m━━━━━━━━━━━━━━━━━━━━\u001b[0m\u001b[37m\u001b[0m \u001b[1m0s\u001b[0m 14ms/step - loss: 0.0312\n",
            "Epoch 97/200\n",
            "\u001b[1m9/9\u001b[0m \u001b[32m━━━━━━━━━━━━━━━━━━━━\u001b[0m\u001b[37m\u001b[0m \u001b[1m0s\u001b[0m 18ms/step - loss: 0.0395\n",
            "Epoch 98/200\n",
            "\u001b[1m9/9\u001b[0m \u001b[32m━━━━━━━━━━━━━━━━━━━━\u001b[0m\u001b[37m\u001b[0m \u001b[1m0s\u001b[0m 13ms/step - loss: 0.0347\n",
            "Epoch 99/200\n",
            "\u001b[1m9/9\u001b[0m \u001b[32m━━━━━━━━━━━━━━━━━━━━\u001b[0m\u001b[37m\u001b[0m \u001b[1m0s\u001b[0m 15ms/step - loss: 0.0308\n",
            "Epoch 100/200\n",
            "\u001b[1m9/9\u001b[0m \u001b[32m━━━━━━━━━━━━━━━━━━━━\u001b[0m\u001b[37m\u001b[0m \u001b[1m0s\u001b[0m 18ms/step - loss: 0.0314\n",
            "Epoch 101/200\n",
            "\u001b[1m9/9\u001b[0m \u001b[32m━━━━━━━━━━━━━━━━━━━━\u001b[0m\u001b[37m\u001b[0m \u001b[1m0s\u001b[0m 16ms/step - loss: 0.0343\n",
            "Epoch 102/200\n",
            "\u001b[1m9/9\u001b[0m \u001b[32m━━━━━━━━━━━━━━━━━━━━\u001b[0m\u001b[37m\u001b[0m \u001b[1m0s\u001b[0m 14ms/step - loss: 0.0340\n",
            "Epoch 103/200\n",
            "\u001b[1m9/9\u001b[0m \u001b[32m━━━━━━━━━━━━━━━━━━━━\u001b[0m\u001b[37m\u001b[0m \u001b[1m0s\u001b[0m 10ms/step - loss: 0.0350\n",
            "Epoch 104/200\n",
            "\u001b[1m9/9\u001b[0m \u001b[32m━━━━━━━━━━━━━━━━━━━━\u001b[0m\u001b[37m\u001b[0m \u001b[1m0s\u001b[0m 9ms/step - loss: 0.0430 \n",
            "Epoch 105/200\n",
            "\u001b[1m9/9\u001b[0m \u001b[32m━━━━━━━━━━━━━━━━━━━━\u001b[0m\u001b[37m\u001b[0m \u001b[1m0s\u001b[0m 10ms/step - loss: 0.0468\n",
            "Epoch 106/200\n",
            "\u001b[1m9/9\u001b[0m \u001b[32m━━━━━━━━━━━━━━━━━━━━\u001b[0m\u001b[37m\u001b[0m \u001b[1m0s\u001b[0m 10ms/step - loss: 0.0382\n",
            "Epoch 107/200\n",
            "\u001b[1m9/9\u001b[0m \u001b[32m━━━━━━━━━━━━━━━━━━━━\u001b[0m\u001b[37m\u001b[0m \u001b[1m0s\u001b[0m 9ms/step - loss: 0.0353 \n",
            "Epoch 108/200\n",
            "\u001b[1m9/9\u001b[0m \u001b[32m━━━━━━━━━━━━━━━━━━━━\u001b[0m\u001b[37m\u001b[0m \u001b[1m0s\u001b[0m 9ms/step - loss: 0.0342 \n",
            "Epoch 109/200\n",
            "\u001b[1m9/9\u001b[0m \u001b[32m━━━━━━━━━━━━━━━━━━━━\u001b[0m\u001b[37m\u001b[0m \u001b[1m0s\u001b[0m 9ms/step - loss: 0.0320 \n",
            "Epoch 110/200\n",
            "\u001b[1m9/9\u001b[0m \u001b[32m━━━━━━━━━━━━━━━━━━━━\u001b[0m\u001b[37m\u001b[0m \u001b[1m0s\u001b[0m 9ms/step - loss: 0.0297 \n",
            "Epoch 111/200\n",
            "\u001b[1m9/9\u001b[0m \u001b[32m━━━━━━━━━━━━━━━━━━━━\u001b[0m\u001b[37m\u001b[0m \u001b[1m0s\u001b[0m 9ms/step - loss: 0.0281 \n",
            "Epoch 112/200\n",
            "\u001b[1m9/9\u001b[0m \u001b[32m━━━━━━━━━━━━━━━━━━━━\u001b[0m\u001b[37m\u001b[0m \u001b[1m0s\u001b[0m 11ms/step - loss: 0.0314\n",
            "Epoch 113/200\n",
            "\u001b[1m9/9\u001b[0m \u001b[32m━━━━━━━━━━━━━━━━━━━━\u001b[0m\u001b[37m\u001b[0m \u001b[1m0s\u001b[0m 10ms/step - loss: 0.0297\n",
            "Epoch 114/200\n",
            "\u001b[1m9/9\u001b[0m \u001b[32m━━━━━━━━━━━━━━━━━━━━\u001b[0m\u001b[37m\u001b[0m \u001b[1m0s\u001b[0m 9ms/step - loss: 0.0294 \n",
            "Epoch 115/200\n",
            "\u001b[1m9/9\u001b[0m \u001b[32m━━━━━━━━━━━━━━━━━━━━\u001b[0m\u001b[37m\u001b[0m \u001b[1m0s\u001b[0m 9ms/step - loss: 0.0312 \n",
            "Epoch 116/200\n",
            "\u001b[1m9/9\u001b[0m \u001b[32m━━━━━━━━━━━━━━━━━━━━\u001b[0m\u001b[37m\u001b[0m \u001b[1m0s\u001b[0m 10ms/step - loss: 0.0333\n",
            "Epoch 117/200\n",
            "\u001b[1m9/9\u001b[0m \u001b[32m━━━━━━━━━━━━━━━━━━━━\u001b[0m\u001b[37m\u001b[0m \u001b[1m0s\u001b[0m 11ms/step - loss: 0.0366\n",
            "Epoch 118/200\n",
            "\u001b[1m9/9\u001b[0m \u001b[32m━━━━━━━━━━━━━━━━━━━━\u001b[0m\u001b[37m\u001b[0m \u001b[1m0s\u001b[0m 10ms/step - loss: 0.0336\n",
            "Epoch 119/200\n",
            "\u001b[1m9/9\u001b[0m \u001b[32m━━━━━━━━━━━━━━━━━━━━\u001b[0m\u001b[37m\u001b[0m \u001b[1m0s\u001b[0m 9ms/step - loss: 0.0440 \n",
            "Epoch 120/200\n",
            "\u001b[1m9/9\u001b[0m \u001b[32m━━━━━━━━━━━━━━━━━━━━\u001b[0m\u001b[37m\u001b[0m \u001b[1m0s\u001b[0m 9ms/step - loss: 0.0394 \n",
            "Epoch 121/200\n",
            "\u001b[1m9/9\u001b[0m \u001b[32m━━━━━━━━━━━━━━━━━━━━\u001b[0m\u001b[37m\u001b[0m \u001b[1m0s\u001b[0m 9ms/step - loss: 0.0352 \n",
            "Epoch 122/200\n",
            "\u001b[1m9/9\u001b[0m \u001b[32m━━━━━━━━━━━━━━━━━━━━\u001b[0m\u001b[37m\u001b[0m \u001b[1m0s\u001b[0m 9ms/step - loss: 0.0291 \n",
            "Epoch 123/200\n",
            "\u001b[1m9/9\u001b[0m \u001b[32m━━━━━━━━━━━━━━━━━━━━\u001b[0m\u001b[37m\u001b[0m \u001b[1m0s\u001b[0m 9ms/step - loss: 0.0291 \n",
            "Epoch 124/200\n",
            "\u001b[1m9/9\u001b[0m \u001b[32m━━━━━━━━━━━━━━━━━━━━\u001b[0m\u001b[37m\u001b[0m \u001b[1m0s\u001b[0m 9ms/step - loss: 0.0392 \n",
            "Epoch 125/200\n",
            "\u001b[1m9/9\u001b[0m \u001b[32m━━━━━━━━━━━━━━━━━━━━\u001b[0m\u001b[37m\u001b[0m \u001b[1m0s\u001b[0m 10ms/step - loss: 0.0403\n",
            "Epoch 126/200\n",
            "\u001b[1m9/9\u001b[0m \u001b[32m━━━━━━━━━━━━━━━━━━━━\u001b[0m\u001b[37m\u001b[0m \u001b[1m0s\u001b[0m 10ms/step - loss: 0.0347\n",
            "Epoch 127/200\n",
            "\u001b[1m9/9\u001b[0m \u001b[32m━━━━━━━━━━━━━━━━━━━━\u001b[0m\u001b[37m\u001b[0m \u001b[1m0s\u001b[0m 10ms/step - loss: 0.0325\n",
            "Epoch 128/200\n",
            "\u001b[1m9/9\u001b[0m \u001b[32m━━━━━━━━━━━━━━━━━━━━\u001b[0m\u001b[37m\u001b[0m \u001b[1m0s\u001b[0m 10ms/step - loss: 0.0309\n",
            "Epoch 129/200\n",
            "\u001b[1m9/9\u001b[0m \u001b[32m━━━━━━━━━━━━━━━━━━━━\u001b[0m\u001b[37m\u001b[0m \u001b[1m0s\u001b[0m 9ms/step - loss: 0.0332 \n",
            "Epoch 130/200\n",
            "\u001b[1m9/9\u001b[0m \u001b[32m━━━━━━━━━━━━━━━━━━━━\u001b[0m\u001b[37m\u001b[0m \u001b[1m0s\u001b[0m 9ms/step - loss: 0.0298 \n",
            "Epoch 131/200\n",
            "\u001b[1m9/9\u001b[0m \u001b[32m━━━━━━━━━━━━━━━━━━━━\u001b[0m\u001b[37m\u001b[0m \u001b[1m0s\u001b[0m 9ms/step - loss: 0.0282 \n",
            "Epoch 132/200\n",
            "\u001b[1m9/9\u001b[0m \u001b[32m━━━━━━━━━━━━━━━━━━━━\u001b[0m\u001b[37m\u001b[0m \u001b[1m0s\u001b[0m 9ms/step - loss: 0.0288 \n",
            "Epoch 133/200\n",
            "\u001b[1m9/9\u001b[0m \u001b[32m━━━━━━━━━━━━━━━━━━━━\u001b[0m\u001b[37m\u001b[0m \u001b[1m0s\u001b[0m 9ms/step - loss: 0.0276 \n",
            "Epoch 134/200\n",
            "\u001b[1m9/9\u001b[0m \u001b[32m━━━━━━━━━━━━━━━━━━━━\u001b[0m\u001b[37m\u001b[0m \u001b[1m0s\u001b[0m 9ms/step - loss: 0.0307 \n",
            "Epoch 135/200\n",
            "\u001b[1m9/9\u001b[0m \u001b[32m━━━━━━━━━━━━━━━━━━━━\u001b[0m\u001b[37m\u001b[0m \u001b[1m0s\u001b[0m 10ms/step - loss: 0.0317\n",
            "Epoch 136/200\n",
            "\u001b[1m9/9\u001b[0m \u001b[32m━━━━━━━━━━━━━━━━━━━━\u001b[0m\u001b[37m\u001b[0m \u001b[1m0s\u001b[0m 9ms/step - loss: 0.0390 \n",
            "Epoch 137/200\n",
            "\u001b[1m9/9\u001b[0m \u001b[32m━━━━━━━━━━━━━━━━━━━━\u001b[0m\u001b[37m\u001b[0m \u001b[1m0s\u001b[0m 9ms/step - loss: 0.0346 \n",
            "Epoch 138/200\n",
            "\u001b[1m9/9\u001b[0m \u001b[32m━━━━━━━━━━━━━━━━━━━━\u001b[0m\u001b[37m\u001b[0m \u001b[1m0s\u001b[0m 9ms/step - loss: 0.0347 \n",
            "Epoch 139/200\n",
            "\u001b[1m9/9\u001b[0m \u001b[32m━━━━━━━━━━━━━━━━━━━━\u001b[0m\u001b[37m\u001b[0m \u001b[1m0s\u001b[0m 9ms/step - loss: 0.0343 \n",
            "Epoch 140/200\n",
            "\u001b[1m9/9\u001b[0m \u001b[32m━━━━━━━━━━━━━━━━━━━━\u001b[0m\u001b[37m\u001b[0m \u001b[1m0s\u001b[0m 10ms/step - loss: 0.0378\n",
            "Epoch 141/200\n",
            "\u001b[1m9/9\u001b[0m \u001b[32m━━━━━━━━━━━━━━━━━━━━\u001b[0m\u001b[37m\u001b[0m \u001b[1m0s\u001b[0m 9ms/step - loss: 0.0297 \n",
            "Epoch 142/200\n",
            "\u001b[1m9/9\u001b[0m \u001b[32m━━━━━━━━━━━━━━━━━━━━\u001b[0m\u001b[37m\u001b[0m \u001b[1m0s\u001b[0m 9ms/step - loss: 0.0292 \n",
            "Epoch 143/200\n",
            "\u001b[1m9/9\u001b[0m \u001b[32m━━━━━━━━━━━━━━━━━━━━\u001b[0m\u001b[37m\u001b[0m \u001b[1m0s\u001b[0m 9ms/step - loss: 0.0296 \n",
            "Epoch 144/200\n",
            "\u001b[1m9/9\u001b[0m \u001b[32m━━━━━━━━━━━━━━━━━━━━\u001b[0m\u001b[37m\u001b[0m \u001b[1m0s\u001b[0m 9ms/step - loss: 0.0289 \n",
            "Epoch 145/200\n",
            "\u001b[1m9/9\u001b[0m \u001b[32m━━━━━━━━━━━━━━━━━━━━\u001b[0m\u001b[37m\u001b[0m \u001b[1m0s\u001b[0m 9ms/step - loss: 0.0275 \n",
            "Epoch 146/200\n",
            "\u001b[1m9/9\u001b[0m \u001b[32m━━━━━━━━━━━━━━━━━━━━\u001b[0m\u001b[37m\u001b[0m \u001b[1m0s\u001b[0m 9ms/step - loss: 0.0297 \n",
            "Epoch 147/200\n",
            "\u001b[1m9/9\u001b[0m \u001b[32m━━━━━━━━━━━━━━━━━━━━\u001b[0m\u001b[37m\u001b[0m \u001b[1m0s\u001b[0m 9ms/step - loss: 0.0319 \n",
            "Epoch 148/200\n",
            "\u001b[1m9/9\u001b[0m \u001b[32m━━━━━━━━━━━━━━━━━━━━\u001b[0m\u001b[37m\u001b[0m \u001b[1m0s\u001b[0m 11ms/step - loss: 0.0321\n",
            "Epoch 149/200\n",
            "\u001b[1m9/9\u001b[0m \u001b[32m━━━━━━━━━━━━━━━━━━━━\u001b[0m\u001b[37m\u001b[0m \u001b[1m0s\u001b[0m 9ms/step - loss: 0.0286 \n",
            "Epoch 150/200\n",
            "\u001b[1m9/9\u001b[0m \u001b[32m━━━━━━━━━━━━━━━━━━━━\u001b[0m\u001b[37m\u001b[0m \u001b[1m0s\u001b[0m 10ms/step - loss: 0.0300\n",
            "Epoch 151/200\n",
            "\u001b[1m9/9\u001b[0m \u001b[32m━━━━━━━━━━━━━━━━━━━━\u001b[0m\u001b[37m\u001b[0m \u001b[1m0s\u001b[0m 11ms/step - loss: 0.0253\n",
            "Epoch 152/200\n",
            "\u001b[1m9/9\u001b[0m \u001b[32m━━━━━━━━━━━━━━━━━━━━\u001b[0m\u001b[37m\u001b[0m \u001b[1m0s\u001b[0m 9ms/step - loss: 0.0366 \n",
            "Epoch 153/200\n",
            "\u001b[1m9/9\u001b[0m \u001b[32m━━━━━━━━━━━━━━━━━━━━\u001b[0m\u001b[37m\u001b[0m \u001b[1m0s\u001b[0m 9ms/step - loss: 0.0338 \n",
            "Epoch 154/200\n",
            "\u001b[1m9/9\u001b[0m \u001b[32m━━━━━━━━━━━━━━━━━━━━\u001b[0m\u001b[37m\u001b[0m \u001b[1m0s\u001b[0m 9ms/step - loss: 0.0306 \n",
            "Epoch 155/200\n",
            "\u001b[1m9/9\u001b[0m \u001b[32m━━━━━━━━━━━━━━━━━━━━\u001b[0m\u001b[37m\u001b[0m \u001b[1m0s\u001b[0m 10ms/step - loss: 0.0359\n",
            "Epoch 156/200\n",
            "\u001b[1m9/9\u001b[0m \u001b[32m━━━━━━━━━━━━━━━━━━━━\u001b[0m\u001b[37m\u001b[0m \u001b[1m0s\u001b[0m 10ms/step - loss: 0.0364\n",
            "Epoch 157/200\n",
            "\u001b[1m9/9\u001b[0m \u001b[32m━━━━━━━━━━━━━━━━━━━━\u001b[0m\u001b[37m\u001b[0m \u001b[1m0s\u001b[0m 10ms/step - loss: 0.0300\n",
            "Epoch 158/200\n",
            "\u001b[1m9/9\u001b[0m \u001b[32m━━━━━━━━━━━━━━━━━━━━\u001b[0m\u001b[37m\u001b[0m \u001b[1m0s\u001b[0m 10ms/step - loss: 0.0278\n",
            "Epoch 159/200\n",
            "\u001b[1m9/9\u001b[0m \u001b[32m━━━━━━━━━━━━━━━━━━━━\u001b[0m\u001b[37m\u001b[0m \u001b[1m0s\u001b[0m 9ms/step - loss: 0.0295 \n",
            "Epoch 160/200\n",
            "\u001b[1m9/9\u001b[0m \u001b[32m━━━━━━━━━━━━━━━━━━━━\u001b[0m\u001b[37m\u001b[0m \u001b[1m0s\u001b[0m 9ms/step - loss: 0.0287 \n",
            "Epoch 161/200\n",
            "\u001b[1m9/9\u001b[0m \u001b[32m━━━━━━━━━━━━━━━━━━━━\u001b[0m\u001b[37m\u001b[0m \u001b[1m0s\u001b[0m 9ms/step - loss: 0.0309 \n",
            "Epoch 162/200\n",
            "\u001b[1m9/9\u001b[0m \u001b[32m━━━━━━━━━━━━━━━━━━━━\u001b[0m\u001b[37m\u001b[0m \u001b[1m0s\u001b[0m 9ms/step - loss: 0.0276 \n",
            "Epoch 163/200\n",
            "\u001b[1m9/9\u001b[0m \u001b[32m━━━━━━━━━━━━━━━━━━━━\u001b[0m\u001b[37m\u001b[0m \u001b[1m0s\u001b[0m 9ms/step - loss: 0.0392 \n",
            "Epoch 164/200\n",
            "\u001b[1m9/9\u001b[0m \u001b[32m━━━━━━━━━━━━━━━━━━━━\u001b[0m\u001b[37m\u001b[0m \u001b[1m0s\u001b[0m 10ms/step - loss: 0.0352\n",
            "Epoch 165/200\n",
            "\u001b[1m9/9\u001b[0m \u001b[32m━━━━━━━━━━━━━━━━━━━━\u001b[0m\u001b[37m\u001b[0m \u001b[1m0s\u001b[0m 10ms/step - loss: 0.0334\n",
            "Epoch 166/200\n",
            "\u001b[1m9/9\u001b[0m \u001b[32m━━━━━━━━━━━━━━━━━━━━\u001b[0m\u001b[37m\u001b[0m \u001b[1m0s\u001b[0m 10ms/step - loss: 0.0327\n",
            "Epoch 167/200\n",
            "\u001b[1m9/9\u001b[0m \u001b[32m━━━━━━━━━━━━━━━━━━━━\u001b[0m\u001b[37m\u001b[0m \u001b[1m0s\u001b[0m 10ms/step - loss: 0.0350\n",
            "Epoch 168/200\n",
            "\u001b[1m9/9\u001b[0m \u001b[32m━━━━━━━━━━━━━━━━━━━━\u001b[0m\u001b[37m\u001b[0m \u001b[1m0s\u001b[0m 9ms/step - loss: 0.0320 \n",
            "Epoch 169/200\n",
            "\u001b[1m9/9\u001b[0m \u001b[32m━━━━━━━━━━━━━━━━━━━━\u001b[0m\u001b[37m\u001b[0m \u001b[1m0s\u001b[0m 9ms/step - loss: 0.0351 \n",
            "Epoch 170/200\n",
            "\u001b[1m9/9\u001b[0m \u001b[32m━━━━━━━━━━━━━━━━━━━━\u001b[0m\u001b[37m\u001b[0m \u001b[1m0s\u001b[0m 9ms/step - loss: 0.0324 \n",
            "Epoch 171/200\n",
            "\u001b[1m9/9\u001b[0m \u001b[32m━━━━━━━━━━━━━━━━━━━━\u001b[0m\u001b[37m\u001b[0m \u001b[1m0s\u001b[0m 11ms/step - loss: 0.0320\n",
            "Epoch 172/200\n",
            "\u001b[1m9/9\u001b[0m \u001b[32m━━━━━━━━━━━━━━━━━━━━\u001b[0m\u001b[37m\u001b[0m \u001b[1m0s\u001b[0m 10ms/step - loss: 0.0328\n",
            "Epoch 173/200\n",
            "\u001b[1m9/9\u001b[0m \u001b[32m━━━━━━━━━━━━━━━━━━━━\u001b[0m\u001b[37m\u001b[0m \u001b[1m0s\u001b[0m 10ms/step - loss: 0.0290\n",
            "Epoch 174/200\n",
            "\u001b[1m9/9\u001b[0m \u001b[32m━━━━━━━━━━━━━━━━━━━━\u001b[0m\u001b[37m\u001b[0m \u001b[1m0s\u001b[0m 9ms/step - loss: 0.0296 \n",
            "Epoch 175/200\n",
            "\u001b[1m9/9\u001b[0m \u001b[32m━━━━━━━━━━━━━━━━━━━━\u001b[0m\u001b[37m\u001b[0m \u001b[1m0s\u001b[0m 9ms/step - loss: 0.0261 \n",
            "Epoch 176/200\n",
            "\u001b[1m9/9\u001b[0m \u001b[32m━━━━━━━━━━━━━━━━━━━━\u001b[0m\u001b[37m\u001b[0m \u001b[1m0s\u001b[0m 9ms/step - loss: 0.0296 \n",
            "Epoch 177/200\n",
            "\u001b[1m9/9\u001b[0m \u001b[32m━━━━━━━━━━━━━━━━━━━━\u001b[0m\u001b[37m\u001b[0m \u001b[1m0s\u001b[0m 17ms/step - loss: 0.0307\n",
            "Epoch 178/200\n",
            "\u001b[1m9/9\u001b[0m \u001b[32m━━━━━━━━━━━━━━━━━━━━\u001b[0m\u001b[37m\u001b[0m \u001b[1m0s\u001b[0m 14ms/step - loss: 0.0289 \n",
            "Epoch 179/200\n",
            "\u001b[1m9/9\u001b[0m \u001b[32m━━━━━━━━━━━━━━━━━━━━\u001b[0m\u001b[37m\u001b[0m \u001b[1m0s\u001b[0m 14ms/step - loss: 0.0271 \n",
            "Epoch 180/200\n",
            "\u001b[1m9/9\u001b[0m \u001b[32m━━━━━━━━━━━━━━━━━━━━\u001b[0m\u001b[37m\u001b[0m \u001b[1m0s\u001b[0m 14ms/step - loss: 0.0245\n",
            "Epoch 181/200\n",
            "\u001b[1m9/9\u001b[0m \u001b[32m━━━━━━━━━━━━━━━━━━━━\u001b[0m\u001b[37m\u001b[0m \u001b[1m0s\u001b[0m 16ms/step - loss: 0.0303\n",
            "Epoch 182/200\n",
            "\u001b[1m9/9\u001b[0m \u001b[32m━━━━━━━━━━━━━━━━━━━━\u001b[0m\u001b[37m\u001b[0m \u001b[1m0s\u001b[0m 15ms/step - loss: 0.0284 \n",
            "Epoch 183/200\n",
            "\u001b[1m9/9\u001b[0m \u001b[32m━━━━━━━━━━━━━━━━━━━━\u001b[0m\u001b[37m\u001b[0m \u001b[1m0s\u001b[0m 17ms/step - loss: 0.0276\n",
            "Epoch 184/200\n",
            "\u001b[1m9/9\u001b[0m \u001b[32m━━━━━━━━━━━━━━━━━━━━\u001b[0m\u001b[37m\u001b[0m \u001b[1m0s\u001b[0m 17ms/step - loss: 0.0313\n",
            "Epoch 185/200\n",
            "\u001b[1m9/9\u001b[0m \u001b[32m━━━━━━━━━━━━━━━━━━━━\u001b[0m\u001b[37m\u001b[0m \u001b[1m0s\u001b[0m 16ms/step - loss: 0.0345\n",
            "Epoch 186/200\n",
            "\u001b[1m9/9\u001b[0m \u001b[32m━━━━━━━━━━━━━━━━━━━━\u001b[0m\u001b[37m\u001b[0m \u001b[1m0s\u001b[0m 17ms/step - loss: 0.0313\n",
            "Epoch 187/200\n",
            "\u001b[1m9/9\u001b[0m \u001b[32m━━━━━━━━━━━━━━━━━━━━\u001b[0m\u001b[37m\u001b[0m \u001b[1m0s\u001b[0m 10ms/step - loss: 0.0287\n",
            "Epoch 188/200\n",
            "\u001b[1m9/9\u001b[0m \u001b[32m━━━━━━━━━━━━━━━━━━━━\u001b[0m\u001b[37m\u001b[0m \u001b[1m0s\u001b[0m 10ms/step - loss: 0.0303\n",
            "Epoch 189/200\n",
            "\u001b[1m9/9\u001b[0m \u001b[32m━━━━━━━━━━━━━━━━━━━━\u001b[0m\u001b[37m\u001b[0m \u001b[1m0s\u001b[0m 10ms/step - loss: 0.0274\n",
            "Epoch 190/200\n",
            "\u001b[1m9/9\u001b[0m \u001b[32m━━━━━━━━━━━━━━━━━━━━\u001b[0m\u001b[37m\u001b[0m \u001b[1m0s\u001b[0m 10ms/step - loss: 0.0310\n",
            "Epoch 191/200\n",
            "\u001b[1m9/9\u001b[0m \u001b[32m━━━━━━━━━━━━━━━━━━━━\u001b[0m\u001b[37m\u001b[0m \u001b[1m0s\u001b[0m 10ms/step - loss: 0.0275\n",
            "Epoch 192/200\n",
            "\u001b[1m9/9\u001b[0m \u001b[32m━━━━━━━━━━━━━━━━━━━━\u001b[0m\u001b[37m\u001b[0m \u001b[1m0s\u001b[0m 10ms/step - loss: 0.0264\n",
            "Epoch 193/200\n",
            "\u001b[1m9/9\u001b[0m \u001b[32m━━━━━━━━━━━━━━━━━━━━\u001b[0m\u001b[37m\u001b[0m \u001b[1m0s\u001b[0m 11ms/step - loss: 0.0337\n",
            "Epoch 194/200\n",
            "\u001b[1m9/9\u001b[0m \u001b[32m━━━━━━━━━━━━━━━━━━━━\u001b[0m\u001b[37m\u001b[0m \u001b[1m0s\u001b[0m 10ms/step - loss: 0.0307\n",
            "Epoch 195/200\n",
            "\u001b[1m9/9\u001b[0m \u001b[32m━━━━━━━━━━━━━━━━━━━━\u001b[0m\u001b[37m\u001b[0m \u001b[1m0s\u001b[0m 10ms/step - loss: 0.0359\n",
            "Epoch 196/200\n",
            "\u001b[1m9/9\u001b[0m \u001b[32m━━━━━━━━━━━━━━━━━━━━\u001b[0m\u001b[37m\u001b[0m \u001b[1m0s\u001b[0m 10ms/step - loss: 0.0374\n",
            "Epoch 197/200\n",
            "\u001b[1m9/9\u001b[0m \u001b[32m━━━━━━━━━━━━━━━━━━━━\u001b[0m\u001b[37m\u001b[0m \u001b[1m0s\u001b[0m 10ms/step - loss: 0.0303\n",
            "Epoch 198/200\n",
            "\u001b[1m9/9\u001b[0m \u001b[32m━━━━━━━━━━━━━━━━━━━━\u001b[0m\u001b[37m\u001b[0m \u001b[1m0s\u001b[0m 10ms/step - loss: 0.0269\n",
            "Epoch 199/200\n",
            "\u001b[1m9/9\u001b[0m \u001b[32m━━━━━━━━━━━━━━━━━━━━\u001b[0m\u001b[37m\u001b[0m \u001b[1m0s\u001b[0m 10ms/step - loss: 0.0331\n",
            "Epoch 200/200\n",
            "\u001b[1m9/9\u001b[0m \u001b[32m━━━━━━━━━━━━━━━━━━━━\u001b[0m\u001b[37m\u001b[0m \u001b[1m0s\u001b[0m 9ms/step - loss: 0.0342 \n",
            "\n",
            "Treinamento do modelo concluído!\n"
          ]
        }
      ]
    },
    {
      "cell_type": "markdown",
      "source": [
        "**Explicação:**\n",
        "\n",
        "*   **history = model.fit(...)**: Este é o coração do treinamento da rede neural.\n",
        "*   **X, y:** São os recursos e o alvo pré-processados que modelo usará para aprender.\n",
        "*   **batch_size=128:** Durante o treinamento, o modelo não processa todos os dados de uma vez. Em vez disso, ele divide os dados em \"batches\" (lotes). Um batch_size de 128 significa que 128 amostras são alimentadas ao modelo, as previsões são feitas, a perda é calculada e os pesos do modelo são atualizados, antes de passar para o próximo batch.\n",
        "*   Tamanhos de batch maiores podem treinar mais rápido, mas podem exigir mais memória e podem não encontrar o \"melhor\" ponto de otimização.\n",
        "*   Tamanhos de batch menores são mais lentos, mas podem levar a uma convergência mais robusta.\n",
        "*   **epochs=200:** Uma época é quando o conjunto de dados inteiro de treinamento é passado para frente e para trás através da rede neural uma vez. epochs=200 significa que este processo será repetido 200 vezes.\n",
        "*   Mais épocas podem levar a um modelo mais bem treinado, mas também aumentam o risco de overfitting (onde o modelo memoriza os dados de treinamento e não generaliza bem para novos dados).\n",
        "*  **history:** O método fit retorna um objeto History que contém um registro da função de perda e das métricas do modelo em cada época de treinamento.\n"
      ],
      "metadata": {
        "id": "0CsDqQNhdTlV"
      }
    },
    {
      "cell_type": "markdown",
      "source": [
        "## Passo 6: Visualizar o Histórico de Treinamento\n",
        "Analisar como a função de perda mudou ao longo das épocas é fundamental para entender se o modelo está aprendendo e se está com bom desempenho."
      ],
      "metadata": {
        "id": "3QGLsrc8eqo6"
      }
    },
    {
      "cell_type": "code",
      "source": [
        "import pandas as pd # Importa pandas novamente, caso não esteja na célula anterior.\n",
        "import matplotlib.pyplot as plt # Importa matplotlib para plotagem.\n",
        "\n",
        "# Converte o histórico de treinamento em um DataFrame do Pandas para fácil visualização\n",
        "history_df = pd.DataFrame(history.history)\n",
        "\n",
        "# --- Plotar a Perda de Treinamento ---\n",
        "# Começa o gráfico a partir da época 5 para ter uma visão mais clara da tendência,\n",
        "# pois as primeiras épocas podem ter perdas muito altas.\n",
        "plt.figure(figsize=(10, 6)) # Define o tamanho da figura\n",
        "history_df.loc[5:, ['loss']].plot(title=\"Perda de Treinamento ao Longo das Épocas\");\n",
        "plt.xlabel(\"Época\")\n",
        "plt.ylabel(\"MAE (Perda)\")\n",
        "plt.grid(True)\n",
        "plt.show() # Exibe o gráfico\n",
        "\n",
        "print(\"\\nHistórico de treinamento (primeiras 10 épocas):\")\n",
        "print(history_df.head(10))\n"
      ],
      "metadata": {
        "colab": {
          "base_uri": "https://localhost:8080/",
          "height": 719
        },
        "id": "DTo8HMBodP9M",
        "outputId": "d8dc16ab-cc7d-48da-b25f-6900dfe31656"
      },
      "execution_count": 19,
      "outputs": [
        {
          "output_type": "display_data",
          "data": {
            "text/plain": [
              "<Figure size 1000x600 with 0 Axes>"
            ]
          },
          "metadata": {}
        },
        {
          "output_type": "display_data",
          "data": {
            "text/plain": [
              "<Figure size 640x480 with 1 Axes>"
            ],
            "image/png": "[encoded data removed]"
          },
          "metadata": {}
        },
        {
          "output_type": "stream",
          "name": "stdout",
          "text": [
            "\n",
            "Histórico de treinamento (primeiras 10 épocas):\n",
            "       loss\n",
            "0  2.707669\n",
            "1  0.877377\n",
            "2  0.521754\n",
            "3  0.341199\n",
            "4  0.240642\n",
            "5  0.182024\n",
            "6  0.148250\n",
            "7  0.121293\n",
            "8  0.101836\n",
            "9  0.089707\n"
          ]
        }
      ]
    },
    {
      "cell_type": "markdown",
      "source": [
        "**Explicação**:\n",
        "\n",
        "*   **history_df = pd.DataFrame(history.history):** O objeto history contém um dicionário (history.history) onde as chaves são os nomes das métricas (neste caso, 'loss' para MAE) e os valores são listas dos valores da métrica para cada época. Convertemos isso em um DataFrame do Pandas para facilitar a plotagem.\n",
        "\n",
        "*   **history_df.loc[5:, ['loss']].plot(...):**\n",
        "*   **history_df.loc[5:, ['loss']]** seleciona todas as linhas a partir da época 5 (índice 5, já que os índices das épocas começam em 0) e apenas a coluna 'loss'.\n",
        "*   **.plot()** cria um gráfico de linha.\n",
        "o\ttitle, xlabel, ylabel, grid: São para melhorar a legibilidade do gráfico.\n",
        "*   **plt.show():** Exibe o gráfico.\n",
        "\n",
        "*   **O que observar no gráfico de perda:**\n",
        "\n",
        "*   **Perda Decrescente:** Idealmente, você quer ver a curva de perda diminuir constantemente ao longo das épocas. Isso indica que o modelo está aprendendo e melhorando suas previsões.\n",
        "*   **Platô:** Se a perda parar de diminuir e se estabilizar (formar um platô), pode significar que o modelo aprendeu o máximo que pode com a arquitetura e os hiperparâmetros atuais, ou que o learning rate é muito baixo.\n",
        "*   **Aumento da Perda:** Se a perda começar a aumentar após um período de diminuição, pode ser um sinal de overfitting, especialmente se você também estivesse observando uma métrica de validação (que não está no seu código, mas é comum em treinamento real)."
      ],
      "metadata": {
        "id": "3pKa0EDJfTto"
      }
    }
  ]
}